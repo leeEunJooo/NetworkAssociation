{
 "cells": [
  {
   "cell_type": "code",
   "execution_count": 13,
   "metadata": {},
   "outputs": [
    {
     "name": "stderr",
     "output_type": "stream",
     "text": [
      "/opt/anaconda3/lib/python3.7/site-packages/numpy/lib/arraysetops.py:569: FutureWarning: elementwise comparison failed; returning scalar instead, but in the future will perform elementwise comparison\n",
      "  mask |= (ar1 == a)\n"
     ]
    }
   ],
   "source": [
    "import csv\n",
    "import json\n",
    "import requests\n",
    "import pprint\n",
    "\n",
    "import numpy as np\n",
    "import pandas as pd\n",
    "import matplotlib\n",
    "import matplotlib.pyplot as plt\n",
    "import seaborn as sns\n",
    "from sklearn import preprocessing\n",
    "from sklearn.cluster import KMeans\n",
    "\n",
    "%matplotlib inline\n",
    "\n",
    "pd.set_option('display.max_columns', None)\n",
    "data = pd.read_csv('data/Second_half_2019_over0.csv', header=[0,1], index_col=0)\n",
    "# data1 = pd.read_csv('data/sortby_MAC_Time_2019.csv', header=[0,1], index_col=0)"
   ]
  },
  {
   "cell_type": "markdown",
   "metadata": {},
   "source": [
    "# 데이터의 주기성 \n",
    "- 매달의 첫주부터 넷재주까지의 주기\n",
    "- 6개월간의 요일마다 연결되는 세션의 주기성\n",
    "- 6개월간 시간마다(평일, 주말) 연결되는 세션의 주기성"
   ]
  },
  {
   "cell_type": "markdown",
   "metadata": {},
   "source": [
    "## 시간마다 연결되는 세션의 주기성"
   ]
  },
  {
   "cell_type": "markdown",
   "metadata": {},
   "source": [
    "- 7, 8, 9, 10, 11, 12월 평일 매 시간마다 평균\n",
    "- 7, 8, 9, 10, 11, 12월 주말 매 시간마다 평균\n",
    "으로 그래프 그리기"
   ]
  },
  {
   "cell_type": "code",
   "execution_count": 14,
   "metadata": {},
   "outputs": [
    {
     "data": {
      "text/html": [
       "<div>\n",
       "<style scoped>\n",
       "    .dataframe tbody tr th:only-of-type {\n",
       "        vertical-align: middle;\n",
       "    }\n",
       "\n",
       "    .dataframe tbody tr th {\n",
       "        vertical-align: top;\n",
       "    }\n",
       "\n",
       "    .dataframe thead tr th {\n",
       "        text-align: left;\n",
       "    }\n",
       "</style>\n",
       "<table border=\"1\" class=\"dataframe\">\n",
       "  <thead>\n",
       "    <tr>\n",
       "      <th></th>\n",
       "      <th>l1</th>\n",
       "      <th colspan=\"4\" halign=\"left\">AP</th>\n",
       "      <th colspan=\"4\" halign=\"left\">Client</th>\n",
       "      <th colspan=\"4\" halign=\"left\">Session Duration</th>\n",
       "      <th colspan=\"9\" halign=\"left\">Utilization</th>\n",
       "      <th>Disassociation Time</th>\n",
       "      <th>Association Time</th>\n",
       "    </tr>\n",
       "    <tr>\n",
       "      <th>0</th>\n",
       "      <th>l2</th>\n",
       "      <th>IP Address</th>\n",
       "      <th>MAC Address</th>\n",
       "      <th>Map Location</th>\n",
       "      <th>Name</th>\n",
       "      <th>Endpoint Type</th>\n",
       "      <th>IP Address</th>\n",
       "      <th>MAC Address</th>\n",
       "      <th>SSID</th>\n",
       "      <th>days</th>\n",
       "      <th>hours</th>\n",
       "      <th>minutes</th>\n",
       "      <th>seconds</th>\n",
       "      <th>Avg. Session Throughput (Kbps)</th>\n",
       "      <th>Bytes Received</th>\n",
       "      <th>Bytes Sent</th>\n",
       "      <th>Data Retries</th>\n",
       "      <th>Packets Received</th>\n",
       "      <th>Packets Sent</th>\n",
       "      <th>RSSI (dBm)</th>\n",
       "      <th>RTS Retries</th>\n",
       "      <th>SNR (dB)</th>\n",
       "      <th>Unnamed: 23_level_1</th>\n",
       "      <th>Unnamed: 24_level_1</th>\n",
       "    </tr>\n",
       "  </thead>\n",
       "  <tbody>\n",
       "    <tr>\n",
       "      <th>2</th>\n",
       "      <td>3451965</td>\n",
       "      <td>172.20.146.92</td>\n",
       "      <td>08:17:35:c7:5c:50</td>\n",
       "      <td>PUSAN-OUTDOOR &gt; PUSAN-OUTDOOR</td>\n",
       "      <td>11S-508-OUT-2</td>\n",
       "      <td>Android-LG</td>\n",
       "      <td>164.125.250.67</td>\n",
       "      <td>0</td>\n",
       "      <td>PNU-WiFi</td>\n",
       "      <td>0</td>\n",
       "      <td>0</td>\n",
       "      <td>35</td>\n",
       "      <td>6</td>\n",
       "      <td>6.8</td>\n",
       "      <td>159257</td>\n",
       "      <td>95660</td>\n",
       "      <td>278</td>\n",
       "      <td>327</td>\n",
       "      <td>383</td>\n",
       "      <td>-87</td>\n",
       "      <td>0</td>\n",
       "      <td>8</td>\n",
       "      <td>2019-05-19 01:24:52</td>\n",
       "      <td>2019-05-19 00:49:46</td>\n",
       "    </tr>\n",
       "    <tr>\n",
       "      <th>10</th>\n",
       "      <td>459471</td>\n",
       "      <td>164.125.168.248</td>\n",
       "      <td>10:8c:cf:10:8d:a0</td>\n",
       "      <td>PUSAN-OUTDOOR &gt; PUSAN-OUTDOOR</td>\n",
       "      <td>SAP-168.248</td>\n",
       "      <td>Android-LG</td>\n",
       "      <td>164.125.250.193</td>\n",
       "      <td>0</td>\n",
       "      <td>PNU-WiFi</td>\n",
       "      <td>0</td>\n",
       "      <td>0</td>\n",
       "      <td>5</td>\n",
       "      <td>2</td>\n",
       "      <td>4.2</td>\n",
       "      <td>344101</td>\n",
       "      <td>132199</td>\n",
       "      <td>15411</td>\n",
       "      <td>693</td>\n",
       "      <td>787</td>\n",
       "      <td>-52</td>\n",
       "      <td>0</td>\n",
       "      <td>39</td>\n",
       "      <td>2019-05-20 08:57:48</td>\n",
       "      <td>2019-05-20 08:52:46</td>\n",
       "    </tr>\n",
       "    <tr>\n",
       "      <th>11</th>\n",
       "      <td>21181</td>\n",
       "      <td>164.125.175.247</td>\n",
       "      <td>84:3d:c6:ea:62:40</td>\n",
       "      <td>Pusan &gt; GunSul (401) &gt; GunSul2F</td>\n",
       "      <td>16AP-401-2-1</td>\n",
       "      <td>Android-LG</td>\n",
       "      <td>164.125.250.193</td>\n",
       "      <td>0</td>\n",
       "      <td>PNU-WiFi</td>\n",
       "      <td>0</td>\n",
       "      <td>1</td>\n",
       "      <td>21</td>\n",
       "      <td>9</td>\n",
       "      <td>115.2</td>\n",
       "      <td>51125667</td>\n",
       "      <td>5383309</td>\n",
       "      <td>13780</td>\n",
       "      <td>44552</td>\n",
       "      <td>37590</td>\n",
       "      <td>-65</td>\n",
       "      <td>0</td>\n",
       "      <td>27</td>\n",
       "      <td>2019-05-20 10:18:58</td>\n",
       "      <td>2019-05-20 08:57:49</td>\n",
       "    </tr>\n",
       "  </tbody>\n",
       "</table>\n",
       "</div>"
      ],
      "text/plain": [
       "         l1               AP                     \\\n",
       "0        l2       IP Address        MAC Address   \n",
       "2   3451965    172.20.146.92  08:17:35:c7:5c:50   \n",
       "10   459471  164.125.168.248  10:8c:cf:10:8d:a0   \n",
       "11    21181  164.125.175.247  84:3d:c6:ea:62:40   \n",
       "\n",
       "                                                          Client  \\\n",
       "0                      Map Location           Name Endpoint Type   \n",
       "2     PUSAN-OUTDOOR > PUSAN-OUTDOOR  11S-508-OUT-2    Android-LG   \n",
       "10    PUSAN-OUTDOOR > PUSAN-OUTDOOR    SAP-168.248    Android-LG   \n",
       "11  Pusan > GunSul (401) > GunSul2F   16AP-401-2-1    Android-LG   \n",
       "\n",
       "                                          Session Duration                \\\n",
       "0        IP Address MAC Address      SSID             days hours minutes   \n",
       "2    164.125.250.67           0  PNU-WiFi                0     0      35   \n",
       "10  164.125.250.193           0  PNU-WiFi                0     0       5   \n",
       "11  164.125.250.193           0  PNU-WiFi                0     1      21   \n",
       "\n",
       "                              Utilization                            \\\n",
       "0  seconds Avg. Session Throughput (Kbps) Bytes Received Bytes Sent   \n",
       "2        6                            6.8         159257      95660   \n",
       "10       2                            4.2         344101     132199   \n",
       "11       9                          115.2       51125667    5383309   \n",
       "\n",
       "                                                                               \\\n",
       "0  Data Retries Packets Received Packets Sent RSSI (dBm) RTS Retries SNR (dB)   \n",
       "2           278              327          383        -87           0        8   \n",
       "10        15411              693          787        -52           0       39   \n",
       "11        13780            44552        37590        -65           0       27   \n",
       "\n",
       "    Disassociation Time     Association Time  \n",
       "0   Unnamed: 23_level_1  Unnamed: 24_level_1  \n",
       "2   2019-05-19 01:24:52  2019-05-19 00:49:46  \n",
       "10  2019-05-20 08:57:48  2019-05-20 08:52:46  \n",
       "11  2019-05-20 10:18:58  2019-05-20 08:57:49  "
      ]
     },
     "execution_count": 14,
     "metadata": {},
     "output_type": "execute_result"
    }
   ],
   "source": [
    "data.head(3)"
   ]
  },
  {
   "cell_type": "code",
   "execution_count": 270,
   "metadata": {},
   "outputs": [],
   "source": [
    "myday = pd.to_datetime(data[('Disassociation Time', 'Unnamed: 23_level_1')])\n",
    "data[('Day Of Week', 'day')] = myday.dt.day_name()"
   ]
  },
  {
   "cell_type": "markdown",
   "metadata": {},
   "source": [
    "## 날짜마다 시간별로 세션개수 저장"
   ]
  },
  {
   "cell_type": "code",
   "execution_count": 271,
   "metadata": {},
   "outputs": [],
   "source": [
    "\n",
    "def session_num_in_one_day_of_week(day):\n",
    "    the_day = data[data[('Day Of Week', 'day')] == day]\n",
    "    \n",
    "    oneday_of_week = {}\n",
    "    for time in range(0,24):\n",
    "\n",
    "        pre_s = \"\"\n",
    "        pre_e = \"\"\n",
    "\n",
    "        if time < 10:\n",
    "            pre_s = \"0\"+str(time)\n",
    "        else:\n",
    "            pre_s = str(time)\n",
    "\n",
    "        if time +1 < 10:\n",
    "            pre_e = \"0\"+str(time+1)\n",
    "        else:\n",
    "            pre_e = str(time+1)\n",
    "\n",
    "        pre_s+=\":00:00\"\n",
    "        pre_e+=\":00:00\"\n",
    "\n",
    "        for i, a, b in zip(data.index, the_day[('Association Time', 'Unnamed: 24_level_1')].values, the_day[('Disassociation Time', 'Unnamed: 23_level_1')].values):\n",
    "            strat = a.split(\" \")[1]\n",
    "            end = b.split(\" \")[1]\n",
    "            con1 = strat >= pre_s and end <= pre_e\n",
    "            con2 = strat <= pre_s and end >= pre_e\n",
    "            con3 = strat <= pre_s and end <= pre_e and end >= pre_s\n",
    "            con4 = strat >= pre_s and end >= pre_e and strat <= pre_e\n",
    "            if con1 or con2 or con3 or con4:\n",
    "                change_to_date = pd.to_datetime(a)\n",
    "                changed_date = change_to_date.date()\n",
    "                if changed_date in oneday_of_week:\n",
    "                    oneday_of_week[changed_date].append(time)\n",
    "                else:\n",
    "                    oneday_of_week[changed_date] = [time]\n",
    "    return oneday_of_week\n"
   ]
  },
  {
   "cell_type": "code",
   "execution_count": 272,
   "metadata": {},
   "outputs": [],
   "source": [
    "mon = session_num_in_one_day_of_week('Monday')\n",
    "tue = session_num_in_one_day_of_week('Tuesday')\n",
    "wed = session_num_in_one_day_of_week('Wednesday')\n",
    "thu = session_num_in_one_day_of_week('Thursday')\n",
    "fri = session_num_in_one_day_of_week('Friday')\n",
    "sat = session_num_in_one_day_of_week('Saturday')\n",
    "sun = session_num_in_one_day_of_week('Sunday')"
   ]
  },
  {
   "cell_type": "code",
   "execution_count": 273,
   "metadata": {},
   "outputs": [],
   "source": [
    "# 평일 주기, 주말 주기 다름"
   ]
  },
  {
   "cell_type": "code",
   "execution_count": 274,
   "metadata": {},
   "outputs": [],
   "source": [
    "def change_to_number(dayday):\n",
    "    day_dt = dayday\n",
    "    Ret = {}\n",
    "    for d_t in day_dt:\n",
    "        dic = {}\n",
    "\n",
    "        for hour in day_dt[d_t]:\n",
    "            if hour in dic:\n",
    "                dic[hour] +=1\n",
    "            else:\n",
    "                dic[hour] = 1\n",
    "\n",
    "            if d_t in Ret:\n",
    "                Ret[d_t].update(dic)\n",
    "            else:\n",
    "                Ret[d_t] = dic\n",
    "    return Ret"
   ]
  },
  {
   "cell_type": "code",
   "execution_count": 275,
   "metadata": {},
   "outputs": [],
   "source": [
    "Mon = change_to_number(mon)\n",
    "Tue = change_to_number(tue)\n",
    "Wed = change_to_number(wed)\n",
    "Thu = change_to_number(thu)\n",
    "Fri = change_to_number(fri)\n",
    "Sat = change_to_number(sat)\n",
    "Sun = change_to_number(sun)"
   ]
  },
  {
   "cell_type": "markdown",
   "metadata": {},
   "source": [
    "# 요일별로 시간마다 모든 날짜에서 세션 평균 구하기"
   ]
  },
  {
   "cell_type": "code",
   "execution_count": 348,
   "metadata": {},
   "outputs": [],
   "source": [
    "\n",
    "def day_avg(dayday):\n",
    "    avg_Mon = {}\n",
    "    day_dt = dayday\n",
    "    \n",
    "    for hour in range(0,24):\n",
    "        m_avg = 0\n",
    "        m_sum = 0\n",
    "        cnt = 0\n",
    "        for m in day_dt:\n",
    "            cnt+=1\n",
    "            if hour in day_dt[m]:\n",
    "                m_sum +=day_dt[m][hour]\n",
    "            else:\n",
    "                m_sum +=0\n",
    "        m_avg = m_sum/cnt\n",
    "\n",
    "        avg_Mon[hour] = m_avg\n",
    "        \n",
    "    return avg_Mon\n",
    "    "
   ]
  },
  {
   "cell_type": "code",
   "execution_count": 487,
   "metadata": {},
   "outputs": [],
   "source": [
    "mon_avg = day_avg(Mon)\n",
    "tue_avg = day_avg(Tue)\n",
    "wed_avg = day_avg(Wed)\n",
    "thu_avg = day_avg(Thu)\n",
    "fri_avg = day_avg(Fri)\n",
    "sat_avg = day_avg(Sat)\n",
    "sun_avg = day_avg(Sun)"
   ]
  },
  {
   "cell_type": "code",
   "execution_count": 595,
   "metadata": {},
   "outputs": [],
   "source": [
    "mon_df = pd.DataFrame(pd.Series(mon_avg), columns=['avg'])\n",
    "tue_df = pd.DataFrame(pd.Series(tue_avg), columns=['avg'])\n",
    "wed_df = pd.DataFrame(pd.Series(wed_avg), columns=['avg'])\n",
    "thu_df = pd.DataFrame(pd.Series(thu_avg), columns=['avg'])\n",
    "fri_df = pd.DataFrame(pd.Series(fri_avg), columns=['avg'])\n",
    "sat_df = pd.DataFrame(pd.Series(sat_avg), columns=['avg'])\n",
    "sun_df = pd.DataFrame(pd.Series(sun_avg), columns=['avg'])"
   ]
  },
  {
   "cell_type": "code",
   "execution_count": 596,
   "metadata": {},
   "outputs": [],
   "source": [
    "totalday = pd.concat([mon_df,tue_df, wed_df, thu_df, fri_df, sat_df, sun_df])"
   ]
  },
  {
   "cell_type": "code",
   "execution_count": 597,
   "metadata": {},
   "outputs": [],
   "source": [
    "totalday = totalday.reset_index()"
   ]
  },
  {
   "cell_type": "code",
   "execution_count": 600,
   "metadata": {},
   "outputs": [],
   "source": [
    "totalday = totalday.drop(['index'], axis='columns')"
   ]
  },
  {
   "cell_type": "code",
   "execution_count": 603,
   "metadata": {},
   "outputs": [
    {
     "data": {
      "text/html": [
       "<div>\n",
       "<style scoped>\n",
       "    .dataframe tbody tr th:only-of-type {\n",
       "        vertical-align: middle;\n",
       "    }\n",
       "\n",
       "    .dataframe tbody tr th {\n",
       "        vertical-align: top;\n",
       "    }\n",
       "\n",
       "    .dataframe thead th {\n",
       "        text-align: right;\n",
       "    }\n",
       "</style>\n",
       "<table border=\"1\" class=\"dataframe\">\n",
       "  <thead>\n",
       "    <tr style=\"text-align: right;\">\n",
       "      <th></th>\n",
       "      <th>avg</th>\n",
       "    </tr>\n",
       "  </thead>\n",
       "  <tbody>\n",
       "    <tr>\n",
       "      <th>0</th>\n",
       "      <td>130.117647</td>\n",
       "    </tr>\n",
       "    <tr>\n",
       "      <th>1</th>\n",
       "      <td>125.509804</td>\n",
       "    </tr>\n",
       "    <tr>\n",
       "      <th>2</th>\n",
       "      <td>116.627451</td>\n",
       "    </tr>\n",
       "  </tbody>\n",
       "</table>\n",
       "</div>"
      ],
      "text/plain": [
       "          avg\n",
       "0  130.117647\n",
       "1  125.509804\n",
       "2  116.627451"
      ]
     },
     "execution_count": 603,
     "metadata": {},
     "output_type": "execute_result"
    }
   ],
   "source": [
    "totalday.head(3)"
   ]
  },
  {
   "cell_type": "code",
   "execution_count": 604,
   "metadata": {},
   "outputs": [
    {
     "data": {
      "image/png": "[encoded data removed]",
      "text/plain": [
       "<Figure size 1224x360 with 1 Axes>"
      ]
     },
     "metadata": {
      "needs_background": "light"
     },
     "output_type": "display_data"
    }
   ],
   "source": [
    "plt.rcParams[\"figure.figsize\"] = (17,5)\n",
    "\n",
    "plt.figure()\n",
    "plt.subplot(1,1,1)\n",
    "plt.ylim(0,2300)\n",
    "plt.xlim(0,170)\n",
    "plt.plot(totalday)\n",
    "plt.title('session avg in a week')\n",
    "plt.xlabel('days')\n",
    "plt.ylabel('ap avg num')\n",
    "plt.grid()"
   ]
  },
  {
   "cell_type": "code",
   "execution_count": null,
   "metadata": {},
   "outputs": [],
   "source": []
  }
 ],
 "metadata": {
  "kernelspec": {
   "display_name": "Python 3",
   "language": "python",
   "name": "python3"
  },
  "language_info": {
   "codemirror_mode": {
    "name": "ipython",
    "version": 3
   },
   "file_extension": ".py",
   "mimetype": "text/x-python",
   "name": "python",
   "nbconvert_exporter": "python",
   "pygments_lexer": "ipython3",
   "version": "3.7.6"
  }
 },
 "nbformat": 4,
 "nbformat_minor": 4
}
