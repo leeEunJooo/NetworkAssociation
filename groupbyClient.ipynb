{
  "nbformat": 4,
  "nbformat_minor": 0,
  "metadata": {
    "colab": {
      "name": "groupbyClient",
      "provenance": [],
      "authorship_tag": "ABX9TyMKrq8yKy7DgVyiWZpzn8bW",
      "include_colab_link": true
    },
    "kernelspec": {
      "name": "python3",
      "display_name": "Python 3"
    },
    "accelerator": "GPU"
  },
  "cells": [
    {
      "cell_type": "markdown",
      "metadata": {
        "id": "view-in-github",
        "colab_type": "text"
      },
      "source": [
        "<a href=\"https://colab.research.google.com/github/leeEunJooo/NetworkAssociation/blob/master/groupbyClient.ipynb\" target=\"_parent\"><img src=\"https://colab.research.google.com/assets/colab-badge.svg\" alt=\"Open In Colab\"/></a>"
      ]
    },
    {
      "cell_type": "code",
      "metadata": {
        "id": "UeO-fGQFGD5S",
        "colab_type": "code",
        "colab": {
          "base_uri": "https://localhost:8080/",
          "height": 125
        },
        "outputId": "5f0fbdd5-6189-42c2-dd86-97ae876635fa"
      },
      "source": [
        "from google.colab import drive\n",
        "drive.mount('/content/drive')"
      ],
      "execution_count": 1,
      "outputs": [
        {
          "output_type": "stream",
          "text": [
            "Go to this URL in a browser: https://accounts.google.com/o/oauth2/auth?client_id=947318989803-6bn6qk8qdgf4n4g3pfee6491hc0brc4i.apps.googleusercontent.com&redirect_uri=urn%3aietf%3awg%3aoauth%3a2.0%3aoob&response_type=code&scope=email%20https%3a%2f%2fwww.googleapis.com%2fauth%2fdocs.test%20https%3a%2f%2fwww.googleapis.com%2fauth%2fdrive%20https%3a%2f%2fwww.googleapis.com%2fauth%2fdrive.photos.readonly%20https%3a%2f%2fwww.googleapis.com%2fauth%2fpeopleapi.readonly\n",
            "\n",
            "Enter your authorization code:\n",
            "··········\n",
            "Mounted at /content/drive\n"
          ],
          "name": "stdout"
        }
      ]
    },
    {
      "cell_type": "code",
      "metadata": {
        "id": "i-qoht1fHXJn",
        "colab_type": "code",
        "colab": {}
      },
      "source": [
        "import pandas as pd\n",
        "import time\n",
        "import datetime\n",
        "from datetime import timedelta\n",
        "import matplotlib.pyplot as plt\n",
        "import numpy as np\n",
        "import glob\n",
        "import os\n",
        "%matplotlib inline \n"
      ],
      "execution_count": 2,
      "outputs": []
    },
    {
      "cell_type": "code",
      "metadata": {
        "id": "aX1vkEztHqks",
        "colab_type": "code",
        "colab": {
          "base_uri": "https://localhost:8080/",
          "height": 72
        },
        "outputId": "65f563c9-b399-4154-a31b-644ba9fd20fb"
      },
      "source": [
        "data = pd.read_csv('/content/drive/My Drive/졸업과제/new_client_data.csv')"
      ],
      "execution_count": 3,
      "outputs": [
        {
          "output_type": "stream",
          "text": [
            "/usr/local/lib/python3.6/dist-packages/IPython/core/interactiveshell.py:2718: DtypeWarning: Columns (1,6,7,8,9,10,11,12,18,24,25,26,27,28,29,30,31,32,33,34,36,37,38,39,40,41,42,43) have mixed types.Specify dtype option on import or set low_memory=False.\n",
            "  interactivity=interactivity, compiler=compiler, result=result)\n"
          ],
          "name": "stderr"
        }
      ]
    },
    {
      "cell_type": "code",
      "metadata": {
        "id": "kGyEw3mhHwhI",
        "colab_type": "code",
        "colab": {
          "base_uri": "https://localhost:8080/",
          "height": 842
        },
        "outputId": "a9f4fb35-83aa-4ad4-d19f-b38f919011d8"
      },
      "source": [
        "data"
      ],
      "execution_count": 4,
      "outputs": [
        {
          "output_type": "execute_result",
          "data": {
            "text/html": [
              "<div>\n",
              "<style scoped>\n",
              "    .dataframe tbody tr th:only-of-type {\n",
              "        vertical-align: middle;\n",
              "    }\n",
              "\n",
              "    .dataframe tbody tr th {\n",
              "        vertical-align: top;\n",
              "    }\n",
              "\n",
              "    .dataframe thead th {\n",
              "        text-align: right;\n",
              "    }\n",
              "</style>\n",
              "<table border=\"1\" class=\"dataframe\">\n",
              "  <thead>\n",
              "    <tr style=\"text-align: right;\">\n",
              "      <th></th>\n",
              "      <th>Unnamed: 0</th>\n",
              "      <th>l1</th>\n",
              "      <th>AP</th>\n",
              "      <th>AP.1</th>\n",
              "      <th>AP.2</th>\n",
              "      <th>AP.3</th>\n",
              "      <th>Association Time</th>\n",
              "      <th>Association Time.1</th>\n",
              "      <th>Association Time.2</th>\n",
              "      <th>Association Time.3</th>\n",
              "      <th>Association Time.4</th>\n",
              "      <th>Association Time.5</th>\n",
              "      <th>Client</th>\n",
              "      <th>Client.1</th>\n",
              "      <th>Client.2</th>\n",
              "      <th>Client.3</th>\n",
              "      <th>Client.4</th>\n",
              "      <th>Client.5</th>\n",
              "      <th>Client.6</th>\n",
              "      <th>Client.7</th>\n",
              "      <th>Client.8</th>\n",
              "      <th>Client.9</th>\n",
              "      <th>Client.10</th>\n",
              "      <th>Client.11</th>\n",
              "      <th>Client.12</th>\n",
              "      <th>Disassociation Time</th>\n",
              "      <th>Disassociation Time.1</th>\n",
              "      <th>Disassociation Time.2</th>\n",
              "      <th>Disassociation Time.3</th>\n",
              "      <th>Disassociation Time.4</th>\n",
              "      <th>Disassociation Time.5</th>\n",
              "      <th>Session Duration</th>\n",
              "      <th>Session Duration.1</th>\n",
              "      <th>Session Duration.2</th>\n",
              "      <th>Session Duration.3</th>\n",
              "      <th>Utilization</th>\n",
              "      <th>Utilization.1</th>\n",
              "      <th>Utilization.2</th>\n",
              "      <th>Utilization.3</th>\n",
              "      <th>Utilization.4</th>\n",
              "      <th>Utilization.5</th>\n",
              "      <th>Utilization.6</th>\n",
              "      <th>Utilization.7</th>\n",
              "      <th>Utilization.8</th>\n",
              "    </tr>\n",
              "  </thead>\n",
              "  <tbody>\n",
              "    <tr>\n",
              "      <th>0</th>\n",
              "      <td>0</td>\n",
              "      <td>l2</td>\n",
              "      <td>IP Address</td>\n",
              "      <td>MAC Address</td>\n",
              "      <td>Map Location</td>\n",
              "      <td>Name</td>\n",
              "      <td>day</td>\n",
              "      <td>hour</td>\n",
              "      <td>minute</td>\n",
              "      <td>month</td>\n",
              "      <td>second</td>\n",
              "      <td>year</td>\n",
              "      <td>Association ID</td>\n",
              "      <td>Authentication</td>\n",
              "      <td>EAP Type</td>\n",
              "      <td>Encryption Cipher</td>\n",
              "      <td>Endpoint Type</td>\n",
              "      <td>IP Address</td>\n",
              "      <td>MAC Address</td>\n",
              "      <td>Policy Type</td>\n",
              "      <td>Protocol</td>\n",
              "      <td>Radio Type</td>\n",
              "      <td>SSID</td>\n",
              "      <td>Type</td>\n",
              "      <td>VLAN ID</td>\n",
              "      <td>day</td>\n",
              "      <td>hour</td>\n",
              "      <td>minute</td>\n",
              "      <td>month</td>\n",
              "      <td>second</td>\n",
              "      <td>year</td>\n",
              "      <td>days</td>\n",
              "      <td>hours</td>\n",
              "      <td>minutes</td>\n",
              "      <td>seconds</td>\n",
              "      <td>Avg. Session Throughput (Kbps)</td>\n",
              "      <td>Bytes Received</td>\n",
              "      <td>Bytes Sent</td>\n",
              "      <td>Data Retries</td>\n",
              "      <td>Packets Received</td>\n",
              "      <td>Packets Sent</td>\n",
              "      <td>RSSI (dBm)</td>\n",
              "      <td>RTS Retries</td>\n",
              "      <td>SNR (dB)</td>\n",
              "    </tr>\n",
              "    <tr>\n",
              "      <th>1</th>\n",
              "      <td>1</td>\n",
              "      <td>0</td>\n",
              "      <td>164.125.168.230</td>\n",
              "      <td>84:3d:c6:e6:51:20</td>\n",
              "      <td>Pusan &gt; GunSul (401) &gt; GunSul1F</td>\n",
              "      <td>16AP-401-1-1</td>\n",
              "      <td>30</td>\n",
              "      <td>18</td>\n",
              "      <td>2</td>\n",
              "      <td>7</td>\n",
              "      <td>1</td>\n",
              "      <td>2019</td>\n",
              "      <td>2</td>\n",
              "      <td>Yes</td>\n",
              "      <td>PEAP</td>\n",
              "      <td>CCMP (AES)</td>\n",
              "      <td>none</td>\n",
              "      <td>164.125.248.215</td>\n",
              "      <td>0</td>\n",
              "      <td>WPA2</td>\n",
              "      <td>802.11n(5GHz)</td>\n",
              "      <td>802.11a/n/ac</td>\n",
              "      <td>PNU-WiFi</td>\n",
              "      <td>Unified Wireless</td>\n",
              "      <td>19</td>\n",
              "      <td>30</td>\n",
              "      <td>18</td>\n",
              "      <td>7</td>\n",
              "      <td>7</td>\n",
              "      <td>2</td>\n",
              "      <td>2019</td>\n",
              "      <td>0</td>\n",
              "      <td>0</td>\n",
              "      <td>5</td>\n",
              "      <td>1</td>\n",
              "      <td>&lt;0.1</td>\n",
              "      <td>0</td>\n",
              "      <td>0</td>\n",
              "      <td>0</td>\n",
              "      <td>0</td>\n",
              "      <td>0</td>\n",
              "      <td>-78</td>\n",
              "      <td>0</td>\n",
              "      <td>17</td>\n",
              "    </tr>\n",
              "    <tr>\n",
              "      <th>2</th>\n",
              "      <td>2</td>\n",
              "      <td>1</td>\n",
              "      <td>164.125.168.230</td>\n",
              "      <td>84:3d:c6:e6:51:20</td>\n",
              "      <td>Pusan &gt; GunSul (401) &gt; GunSul1F</td>\n",
              "      <td>16AP-401-1-1</td>\n",
              "      <td>29</td>\n",
              "      <td>12</td>\n",
              "      <td>16</td>\n",
              "      <td>7</td>\n",
              "      <td>31</td>\n",
              "      <td>2019</td>\n",
              "      <td>1</td>\n",
              "      <td>Yes</td>\n",
              "      <td>PEAP</td>\n",
              "      <td>CCMP (AES)</td>\n",
              "      <td>Linux-Workstation</td>\n",
              "      <td>172.21.27.89</td>\n",
              "      <td>1</td>\n",
              "      <td>WPA2</td>\n",
              "      <td>802.11ac</td>\n",
              "      <td>802.11a/n/ac</td>\n",
              "      <td>PNU-WiFi</td>\n",
              "      <td>Unified Wireless</td>\n",
              "      <td>17</td>\n",
              "      <td>29</td>\n",
              "      <td>12</td>\n",
              "      <td>26</td>\n",
              "      <td>7</td>\n",
              "      <td>32</td>\n",
              "      <td>2019</td>\n",
              "      <td>0</td>\n",
              "      <td>0</td>\n",
              "      <td>10</td>\n",
              "      <td>1</td>\n",
              "      <td>&lt;0.1</td>\n",
              "      <td>0</td>\n",
              "      <td>0</td>\n",
              "      <td>0</td>\n",
              "      <td>0</td>\n",
              "      <td>0</td>\n",
              "      <td>-128</td>\n",
              "      <td>0</td>\n",
              "      <td>0</td>\n",
              "    </tr>\n",
              "    <tr>\n",
              "      <th>3</th>\n",
              "      <td>3</td>\n",
              "      <td>2</td>\n",
              "      <td>164.125.168.230</td>\n",
              "      <td>84:3d:c6:e6:51:20</td>\n",
              "      <td>Pusan &gt; GunSul (401) &gt; GunSul1F</td>\n",
              "      <td>16AP-401-1-1</td>\n",
              "      <td>30</td>\n",
              "      <td>19</td>\n",
              "      <td>27</td>\n",
              "      <td>7</td>\n",
              "      <td>45</td>\n",
              "      <td>2019</td>\n",
              "      <td>1</td>\n",
              "      <td>Yes</td>\n",
              "      <td>PEAP</td>\n",
              "      <td>CCMP (AES)</td>\n",
              "      <td>Linux-Workstation</td>\n",
              "      <td>172.21.27.89</td>\n",
              "      <td>1</td>\n",
              "      <td>WPA2</td>\n",
              "      <td>802.11ac</td>\n",
              "      <td>802.11a/n/ac</td>\n",
              "      <td>PNU-WiFi</td>\n",
              "      <td>Unified Wireless</td>\n",
              "      <td>17</td>\n",
              "      <td>30</td>\n",
              "      <td>19</td>\n",
              "      <td>32</td>\n",
              "      <td>7</td>\n",
              "      <td>47</td>\n",
              "      <td>2019</td>\n",
              "      <td>0</td>\n",
              "      <td>0</td>\n",
              "      <td>5</td>\n",
              "      <td>2</td>\n",
              "      <td>&lt;0.1</td>\n",
              "      <td>0</td>\n",
              "      <td>0</td>\n",
              "      <td>424</td>\n",
              "      <td>0</td>\n",
              "      <td>0</td>\n",
              "      <td>-73</td>\n",
              "      <td>0</td>\n",
              "      <td>19</td>\n",
              "    </tr>\n",
              "    <tr>\n",
              "      <th>4</th>\n",
              "      <td>4</td>\n",
              "      <td>3</td>\n",
              "      <td>164.125.168.230</td>\n",
              "      <td>84:3d:c6:e6:51:20</td>\n",
              "      <td>Pusan &gt; GunSul (401) &gt; GunSul1F</td>\n",
              "      <td>16AP-401-1-1</td>\n",
              "      <td>29</td>\n",
              "      <td>18</td>\n",
              "      <td>8</td>\n",
              "      <td>7</td>\n",
              "      <td>6</td>\n",
              "      <td>2019</td>\n",
              "      <td>4</td>\n",
              "      <td>Yes</td>\n",
              "      <td>TTLS</td>\n",
              "      <td>CCMP (AES)</td>\n",
              "      <td>iPhone 7+</td>\n",
              "      <td>172.21.58.116</td>\n",
              "      <td>2</td>\n",
              "      <td>WPA2</td>\n",
              "      <td>802.11ac</td>\n",
              "      <td>802.11a/n/ac</td>\n",
              "      <td>PNU-WiFi</td>\n",
              "      <td>Unified Wireless</td>\n",
              "      <td>17</td>\n",
              "      <td>29</td>\n",
              "      <td>18</td>\n",
              "      <td>13</td>\n",
              "      <td>7</td>\n",
              "      <td>7</td>\n",
              "      <td>2019</td>\n",
              "      <td>0</td>\n",
              "      <td>0</td>\n",
              "      <td>5</td>\n",
              "      <td>1</td>\n",
              "      <td>&lt;0.1</td>\n",
              "      <td>0</td>\n",
              "      <td>0</td>\n",
              "      <td>1061</td>\n",
              "      <td>0</td>\n",
              "      <td>0</td>\n",
              "      <td>-78</td>\n",
              "      <td>0</td>\n",
              "      <td>20</td>\n",
              "    </tr>\n",
              "    <tr>\n",
              "      <th>...</th>\n",
              "      <td>...</td>\n",
              "      <td>...</td>\n",
              "      <td>...</td>\n",
              "      <td>...</td>\n",
              "      <td>...</td>\n",
              "      <td>...</td>\n",
              "      <td>...</td>\n",
              "      <td>...</td>\n",
              "      <td>...</td>\n",
              "      <td>...</td>\n",
              "      <td>...</td>\n",
              "      <td>...</td>\n",
              "      <td>...</td>\n",
              "      <td>...</td>\n",
              "      <td>...</td>\n",
              "      <td>...</td>\n",
              "      <td>...</td>\n",
              "      <td>...</td>\n",
              "      <td>...</td>\n",
              "      <td>...</td>\n",
              "      <td>...</td>\n",
              "      <td>...</td>\n",
              "      <td>...</td>\n",
              "      <td>...</td>\n",
              "      <td>...</td>\n",
              "      <td>...</td>\n",
              "      <td>...</td>\n",
              "      <td>...</td>\n",
              "      <td>...</td>\n",
              "      <td>...</td>\n",
              "      <td>...</td>\n",
              "      <td>...</td>\n",
              "      <td>...</td>\n",
              "      <td>...</td>\n",
              "      <td>...</td>\n",
              "      <td>...</td>\n",
              "      <td>...</td>\n",
              "      <td>...</td>\n",
              "      <td>...</td>\n",
              "      <td>...</td>\n",
              "      <td>...</td>\n",
              "      <td>...</td>\n",
              "      <td>...</td>\n",
              "      <td>...</td>\n",
              "    </tr>\n",
              "    <tr>\n",
              "      <th>9775558</th>\n",
              "      <td>9775558</td>\n",
              "      <td>9775557</td>\n",
              "      <td>172.20.180.160</td>\n",
              "      <td>40:01:7a:bb:72:00</td>\n",
              "      <td>YangSan &gt; Sanhak &gt; 5F</td>\n",
              "      <td>17AP-Y15-5-2</td>\n",
              "      <td>27</td>\n",
              "      <td>7</td>\n",
              "      <td>51</td>\n",
              "      <td>6</td>\n",
              "      <td>9</td>\n",
              "      <td>2019</td>\n",
              "      <td>2</td>\n",
              "      <td>Yes</td>\n",
              "      <td>PEAP</td>\n",
              "      <td>CCMP (AES)</td>\n",
              "      <td>Linux-Workstation</td>\n",
              "      <td>164.125.249.96</td>\n",
              "      <td>30738</td>\n",
              "      <td>WPA2</td>\n",
              "      <td>802.11n(2.4GHz)</td>\n",
              "      <td>802.11b/g/n</td>\n",
              "      <td>PNU-WiFi</td>\n",
              "      <td>Unified Wireless</td>\n",
              "      <td>19</td>\n",
              "      <td>27</td>\n",
              "      <td>8</td>\n",
              "      <td>1</td>\n",
              "      <td>6</td>\n",
              "      <td>11</td>\n",
              "      <td>2019</td>\n",
              "      <td>0</td>\n",
              "      <td>0</td>\n",
              "      <td>10</td>\n",
              "      <td>2</td>\n",
              "      <td>&lt;0.1</td>\n",
              "      <td>0</td>\n",
              "      <td>0</td>\n",
              "      <td>1041</td>\n",
              "      <td>0</td>\n",
              "      <td>0</td>\n",
              "      <td>-53</td>\n",
              "      <td>0</td>\n",
              "      <td>42</td>\n",
              "    </tr>\n",
              "    <tr>\n",
              "      <th>9775559</th>\n",
              "      <td>9775559</td>\n",
              "      <td>9775558</td>\n",
              "      <td>172.20.180.160</td>\n",
              "      <td>40:01:7a:bb:72:00</td>\n",
              "      <td>YangSan &gt; Sanhak &gt; 5F</td>\n",
              "      <td>17AP-Y15-5-2</td>\n",
              "      <td>12</td>\n",
              "      <td>10</td>\n",
              "      <td>12</td>\n",
              "      <td>6</td>\n",
              "      <td>1</td>\n",
              "      <td>2019</td>\n",
              "      <td>1</td>\n",
              "      <td>Yes</td>\n",
              "      <td>PEAP</td>\n",
              "      <td>CCMP (AES)</td>\n",
              "      <td>Linux-Workstation</td>\n",
              "      <td>164.125.248.255</td>\n",
              "      <td>14502</td>\n",
              "      <td>WPA2</td>\n",
              "      <td>802.11n(2.4GHz)</td>\n",
              "      <td>802.11b/g/n</td>\n",
              "      <td>PNU-WiFi</td>\n",
              "      <td>Unified Wireless</td>\n",
              "      <td>19</td>\n",
              "      <td>12</td>\n",
              "      <td>11</td>\n",
              "      <td>49</td>\n",
              "      <td>6</td>\n",
              "      <td>52</td>\n",
              "      <td>2019</td>\n",
              "      <td>0</td>\n",
              "      <td>1</td>\n",
              "      <td>37</td>\n",
              "      <td>51</td>\n",
              "      <td>14.1</td>\n",
              "      <td>6946166</td>\n",
              "      <td>2336601</td>\n",
              "      <td>2200</td>\n",
              "      <td>7813</td>\n",
              "      <td>6205</td>\n",
              "      <td>-83</td>\n",
              "      <td>0</td>\n",
              "      <td>6</td>\n",
              "    </tr>\n",
              "    <tr>\n",
              "      <th>9775560</th>\n",
              "      <td>9775560</td>\n",
              "      <td>9775559</td>\n",
              "      <td>172.20.180.160</td>\n",
              "      <td>40:01:7a:bb:72:00</td>\n",
              "      <td>YangSan &gt; Sanhak &gt; 5F</td>\n",
              "      <td>17AP-Y15-5-2</td>\n",
              "      <td>13</td>\n",
              "      <td>10</td>\n",
              "      <td>14</td>\n",
              "      <td>6</td>\n",
              "      <td>20</td>\n",
              "      <td>2019</td>\n",
              "      <td>1</td>\n",
              "      <td>Yes</td>\n",
              "      <td>PEAP</td>\n",
              "      <td>CCMP (AES)</td>\n",
              "      <td>Linux-Workstation</td>\n",
              "      <td>164.125.251.110</td>\n",
              "      <td>10399</td>\n",
              "      <td>WPA2</td>\n",
              "      <td>802.11ac</td>\n",
              "      <td>802.11a/n/ac</td>\n",
              "      <td>PNU-WiFi</td>\n",
              "      <td>Unified Wireless</td>\n",
              "      <td>19</td>\n",
              "      <td>13</td>\n",
              "      <td>10</td>\n",
              "      <td>19</td>\n",
              "      <td>6</td>\n",
              "      <td>30</td>\n",
              "      <td>2019</td>\n",
              "      <td>0</td>\n",
              "      <td>0</td>\n",
              "      <td>5</td>\n",
              "      <td>10</td>\n",
              "      <td>&lt;0.1</td>\n",
              "      <td>0</td>\n",
              "      <td>0</td>\n",
              "      <td>1715</td>\n",
              "      <td>0</td>\n",
              "      <td>0</td>\n",
              "      <td>-53</td>\n",
              "      <td>0</td>\n",
              "      <td>42</td>\n",
              "    </tr>\n",
              "    <tr>\n",
              "      <th>9775561</th>\n",
              "      <td>9775561</td>\n",
              "      <td>9775560</td>\n",
              "      <td>172.20.180.160</td>\n",
              "      <td>40:01:7a:bb:72:00</td>\n",
              "      <td>YangSan &gt; Sanhak &gt; 5F</td>\n",
              "      <td>17AP-Y15-5-2</td>\n",
              "      <td>13</td>\n",
              "      <td>10</td>\n",
              "      <td>14</td>\n",
              "      <td>6</td>\n",
              "      <td>21</td>\n",
              "      <td>2019</td>\n",
              "      <td>2</td>\n",
              "      <td>Yes</td>\n",
              "      <td>PEAP</td>\n",
              "      <td>CCMP (AES)</td>\n",
              "      <td>Linux-Workstation</td>\n",
              "      <td>164.125.249.96</td>\n",
              "      <td>30738</td>\n",
              "      <td>WPA2</td>\n",
              "      <td>802.11n(2.4GHz)</td>\n",
              "      <td>802.11b/g/n</td>\n",
              "      <td>PNU-WiFi</td>\n",
              "      <td>Unified Wireless</td>\n",
              "      <td>19</td>\n",
              "      <td>13</td>\n",
              "      <td>10</td>\n",
              "      <td>19</td>\n",
              "      <td>6</td>\n",
              "      <td>30</td>\n",
              "      <td>2019</td>\n",
              "      <td>0</td>\n",
              "      <td>0</td>\n",
              "      <td>5</td>\n",
              "      <td>9</td>\n",
              "      <td>&lt;0.1</td>\n",
              "      <td>0</td>\n",
              "      <td>0</td>\n",
              "      <td>1041</td>\n",
              "      <td>0</td>\n",
              "      <td>0</td>\n",
              "      <td>-53</td>\n",
              "      <td>0</td>\n",
              "      <td>42</td>\n",
              "    </tr>\n",
              "    <tr>\n",
              "      <th>9775562</th>\n",
              "      <td>9775562</td>\n",
              "      <td>9775561</td>\n",
              "      <td>172.20.180.160</td>\n",
              "      <td>40:01:7a:bb:72:00</td>\n",
              "      <td>YangSan &gt; Sanhak &gt; 5F</td>\n",
              "      <td>17AP-Y15-5-2</td>\n",
              "      <td>13</td>\n",
              "      <td>9</td>\n",
              "      <td>43</td>\n",
              "      <td>6</td>\n",
              "      <td>52</td>\n",
              "      <td>2019</td>\n",
              "      <td>1</td>\n",
              "      <td>Yes</td>\n",
              "      <td>PEAP</td>\n",
              "      <td>CCMP (AES)</td>\n",
              "      <td>Linux-Workstation</td>\n",
              "      <td>164.125.248.255</td>\n",
              "      <td>14502</td>\n",
              "      <td>WPA2</td>\n",
              "      <td>802.11n(2.4GHz)</td>\n",
              "      <td>802.11b/g/n</td>\n",
              "      <td>PNU-WiFi</td>\n",
              "      <td>Unified Wireless</td>\n",
              "      <td>19</td>\n",
              "      <td>13</td>\n",
              "      <td>11</td>\n",
              "      <td>11</td>\n",
              "      <td>6</td>\n",
              "      <td>33</td>\n",
              "      <td>2019</td>\n",
              "      <td>0</td>\n",
              "      <td>1</td>\n",
              "      <td>27</td>\n",
              "      <td>41</td>\n",
              "      <td>14.1</td>\n",
              "      <td>6946166</td>\n",
              "      <td>2336601</td>\n",
              "      <td>2200</td>\n",
              "      <td>7813</td>\n",
              "      <td>6205</td>\n",
              "      <td>-83</td>\n",
              "      <td>0</td>\n",
              "      <td>6</td>\n",
              "    </tr>\n",
              "  </tbody>\n",
              "</table>\n",
              "<p>9775563 rows × 44 columns</p>\n",
              "</div>"
            ],
            "text/plain": [
              "         Unnamed: 0       l1  ... Utilization.7 Utilization.8\n",
              "0                 0       l2  ...   RTS Retries      SNR (dB)\n",
              "1                 1        0  ...             0            17\n",
              "2                 2        1  ...             0             0\n",
              "3                 3        2  ...             0            19\n",
              "4                 4        3  ...             0            20\n",
              "...             ...      ...  ...           ...           ...\n",
              "9775558     9775558  9775557  ...             0            42\n",
              "9775559     9775559  9775558  ...             0             6\n",
              "9775560     9775560  9775559  ...             0            42\n",
              "9775561     9775561  9775560  ...             0            42\n",
              "9775562     9775562  9775561  ...             0             6\n",
              "\n",
              "[9775563 rows x 44 columns]"
            ]
          },
          "metadata": {
            "tags": []
          },
          "execution_count": 4
        }
      ]
    },
    {
      "cell_type": "code",
      "metadata": {
        "id": "Q4oFLyK6Iur3",
        "colab_type": "code",
        "colab": {
          "base_uri": "https://localhost:8080/",
          "height": 34
        },
        "outputId": "82a29b29-d62a-4dd1-a2c7-ac8d29911043"
      },
      "source": [
        "data.groupby(by = ['Client'])"
      ],
      "execution_count": 5,
      "outputs": [
        {
          "output_type": "execute_result",
          "data": {
            "text/plain": [
              "<pandas.core.groupby.generic.DataFrameGroupBy object at 0x7fcb55459fd0>"
            ]
          },
          "metadata": {
            "tags": []
          },
          "execution_count": 5
        }
      ]
    },
    {
      "cell_type": "code",
      "metadata": {
        "id": "cXIf46kVI0hR",
        "colab_type": "code",
        "colab": {
          "base_uri": "https://localhost:8080/",
          "height": 228
        },
        "outputId": "bd474215-7bbb-418d-e414-df2bea91c090"
      },
      "source": [
        "data['Client.6'].value_counts()"
      ],
      "execution_count": 6,
      "outputs": [
        {
          "output_type": "execute_result",
          "data": {
            "text/plain": [
              "8267     7878\n",
              "41834    7813\n",
              "15806    7742\n",
              "10180    7452\n",
              "4553     6890\n",
              "         ... \n",
              "58584       1\n",
              "58597       1\n",
              "58600       1\n",
              "58615       1\n",
              "2504        1\n",
              "Name: Client.6, Length: 72407, dtype: int64"
            ]
          },
          "metadata": {
            "tags": []
          },
          "execution_count": 6
        }
      ]
    },
    {
      "cell_type": "code",
      "metadata": {
        "id": "2nLfhrWWLW3T",
        "colab_type": "code",
        "colab": {
          "base_uri": "https://localhost:8080/",
          "height": 70
        },
        "outputId": "ce06b369-76a2-431d-bd5a-6199daeaf145"
      },
      "source": [
        "set(data[data['Client.6'] == 8267]['AP.2'])"
      ],
      "execution_count": 7,
      "outputs": [
        {
          "output_type": "execute_result",
          "data": {
            "text/plain": [
              "{'Pusan > GunSul (401) > Gunsul7F',\n",
              " 'Pusan > GunSul (401) > Gunsul8F',\n",
              " 'Pusan > GunSul (401) > Gunsul9F'}"
            ]
          },
          "metadata": {
            "tags": []
          },
          "execution_count": 7
        }
      ]
    },
    {
      "cell_type": "code",
      "metadata": {
        "id": "HFpDuMBMLmql",
        "colab_type": "code",
        "colab": {
          "base_uri": "https://localhost:8080/",
          "height": 34
        },
        "outputId": "99cdf51d-0e87-46ea-d05e-fb97d0485462"
      },
      "source": [
        "data[data['Client.6'] == 8267]['Utilization.2'].sum()"
      ],
      "execution_count": 8,
      "outputs": [
        {
          "output_type": "execute_result",
          "data": {
            "text/plain": [
              "59245604"
            ]
          },
          "metadata": {
            "tags": []
          },
          "execution_count": 8
        }
      ]
    },
    {
      "cell_type": "code",
      "metadata": {
        "id": "BtWxuy7yLxAj",
        "colab_type": "code",
        "colab": {
          "base_uri": "https://localhost:8080/",
          "height": 87
        },
        "outputId": "c83d287c-4094-4b7d-b57c-d91a7a3bfd49"
      },
      "source": [
        "set(data[data['Client.6'] == 41834]['AP.2'])"
      ],
      "execution_count": 9,
      "outputs": [
        {
          "output_type": "execute_result",
          "data": {
            "text/plain": [
              "{'PUSAN-OUTDOOR > PUSAN-OUTDOOR',\n",
              " 'Pusan > BonKwan (205) > BonGwan1F',\n",
              " 'Pusan > NewJunsan (515) > NewJunsan 1F',\n",
              " 'Pusan > NewJunsan (515) > NewJunsan 2F'}"
            ]
          },
          "metadata": {
            "tags": []
          },
          "execution_count": 9
        }
      ]
    },
    {
      "cell_type": "code",
      "metadata": {
        "id": "10y6ILsvLu6k",
        "colab_type": "code",
        "colab": {
          "base_uri": "https://localhost:8080/",
          "height": 34
        },
        "outputId": "238619f7-233c-4585-ac4b-dea234f18b65"
      },
      "source": [
        "data[data['Client.6'] == 41834]['Utilization.2'].sum()"
      ],
      "execution_count": 10,
      "outputs": [
        {
          "output_type": "execute_result",
          "data": {
            "text/plain": [
              "746327113"
            ]
          },
          "metadata": {
            "tags": []
          },
          "execution_count": 10
        }
      ]
    },
    {
      "cell_type": "code",
      "metadata": {
        "id": "XD2w7-FIMsYI",
        "colab_type": "code",
        "colab": {}
      },
      "source": [
        "only = data[['Client.6', 'AP.2', 'Utilization.1', 'Utilization.2']]"
      ],
      "execution_count": 11,
      "outputs": []
    },
    {
      "cell_type": "code",
      "metadata": {
        "id": "n4CKR39HSgJB",
        "colab_type": "code",
        "colab": {
          "base_uri": "https://localhost:8080/",
          "height": 193
        },
        "outputId": "bc29a6b7-6846-49a2-cf58-7e082e357957"
      },
      "source": [
        "only['Utilization.1'][1:] = pd.to_numeric(only['Utilization.1'][1:])\n",
        "only['Utilization.2'][1:] = pd.to_numeric(only['Utilization.2'][1:])\n",
        "only['Client.6'][1:] = pd.to_numeric(only['Client.6'][1:])"
      ],
      "execution_count": 12,
      "outputs": [
        {
          "output_type": "stream",
          "text": [
            "/usr/local/lib/python3.6/dist-packages/pandas/core/series.py:1042: SettingWithCopyWarning: \n",
            "A value is trying to be set on a copy of a slice from a DataFrame\n",
            "\n",
            "See the caveats in the documentation: https://pandas.pydata.org/pandas-docs/stable/user_guide/indexing.html#returning-a-view-versus-a-copy\n",
            "  self._set_with(key, value)\n",
            "/usr/local/lib/python3.6/dist-packages/IPython/core/interactiveshell.py:2882: SettingWithCopyWarning: \n",
            "A value is trying to be set on a copy of a slice from a DataFrame\n",
            "\n",
            "See the caveats in the documentation: https://pandas.pydata.org/pandas-docs/stable/user_guide/indexing.html#returning-a-view-versus-a-copy\n",
            "  exec(code_obj, self.user_global_ns, self.user_ns)\n"
          ],
          "name": "stderr"
        }
      ]
    },
    {
      "cell_type": "code",
      "metadata": {
        "id": "qEbdC5uZMyDB",
        "colab_type": "code",
        "colab": {}
      },
      "source": [
        "grouped = only.groupby(by = ['Client.6', 'AP.2']).sum()"
      ],
      "execution_count": 13,
      "outputs": []
    },
    {
      "cell_type": "code",
      "metadata": {
        "id": "ejmrVMVCkeyN",
        "colab_type": "code",
        "colab": {
          "base_uri": "https://localhost:8080/",
          "height": 52
        },
        "outputId": "3eaff09a-c8e5-4d06-c727-1b006a75589f"
      },
      "source": [
        "from sklearn.cluster import DBSCAN\n",
        "from sklearn.cluster import KMeans\n",
        "from sklearn.cluster import AgglomerativeClustering\n",
        "\n",
        "import seaborn as sns\n",
        "from mpl_toolkits.mplot3d import Axes3D\n",
        "from sklearn.preprocessing import StandardScaler"
      ],
      "execution_count": 14,
      "outputs": [
        {
          "output_type": "stream",
          "text": [
            "/usr/local/lib/python3.6/dist-packages/statsmodels/tools/_testing.py:19: FutureWarning: pandas.util.testing is deprecated. Use the functions in the public API at pandas.testing instead.\n",
            "  import pandas.util.testing as tm\n"
          ],
          "name": "stderr"
        }
      ]
    },
    {
      "cell_type": "code",
      "metadata": {
        "id": "2HDNkjHEm1oT",
        "colab_type": "code",
        "colab": {}
      },
      "source": [
        "grouped = grouped.drop('MAC Address' ,0)"
      ],
      "execution_count": 16,
      "outputs": []
    },
    {
      "cell_type": "code",
      "metadata": {
        "id": "_an39EYIn3Hm",
        "colab_type": "code",
        "colab": {
          "base_uri": "https://localhost:8080/",
          "height": 431
        },
        "outputId": "dd251ce9-e4c4-4113-f5c1-1d85e7211f07"
      },
      "source": [
        "grouped"
      ],
      "execution_count": 17,
      "outputs": [
        {
          "output_type": "execute_result",
          "data": {
            "text/html": [
              "<div>\n",
              "<style scoped>\n",
              "    .dataframe tbody tr th:only-of-type {\n",
              "        vertical-align: middle;\n",
              "    }\n",
              "\n",
              "    .dataframe tbody tr th {\n",
              "        vertical-align: top;\n",
              "    }\n",
              "\n",
              "    .dataframe thead th {\n",
              "        text-align: right;\n",
              "    }\n",
              "</style>\n",
              "<table border=\"1\" class=\"dataframe\">\n",
              "  <thead>\n",
              "    <tr style=\"text-align: right;\">\n",
              "      <th></th>\n",
              "      <th></th>\n",
              "      <th>Utilization.1</th>\n",
              "      <th>Utilization.2</th>\n",
              "    </tr>\n",
              "    <tr>\n",
              "      <th>Client.6</th>\n",
              "      <th>AP.2</th>\n",
              "      <th></th>\n",
              "      <th></th>\n",
              "    </tr>\n",
              "  </thead>\n",
              "  <tbody>\n",
              "    <tr>\n",
              "      <th rowspan=\"5\" valign=\"top\">0</th>\n",
              "      <th>PUSAN-OUTDOOR &gt; PUSAN-OUTDOOR</th>\n",
              "      <td>7368301</td>\n",
              "      <td>2478767</td>\n",
              "    </tr>\n",
              "    <tr>\n",
              "      <th>Pusan &gt; 1Sabeom (417) &gt; 1SaBeom1F</th>\n",
              "      <td>679681</td>\n",
              "      <td>151104</td>\n",
              "    </tr>\n",
              "    <tr>\n",
              "      <th>Pusan &gt; 1Sabeom (417) &gt; 1SaBeom3F</th>\n",
              "      <td>231729451</td>\n",
              "      <td>25989107</td>\n",
              "    </tr>\n",
              "    <tr>\n",
              "      <th>Pusan &gt; 2SaBeom (701) &gt; 2SaBeom1F</th>\n",
              "      <td>92256693</td>\n",
              "      <td>16832942</td>\n",
              "    </tr>\n",
              "    <tr>\n",
              "      <th>Pusan &gt; 2SaBeom (701) &gt; 2SaBeom2F</th>\n",
              "      <td>0</td>\n",
              "      <td>0</td>\n",
              "    </tr>\n",
              "    <tr>\n",
              "      <th>...</th>\n",
              "      <th>...</th>\n",
              "      <td>...</td>\n",
              "      <td>...</td>\n",
              "    </tr>\n",
              "    <tr>\n",
              "      <th>68539</th>\n",
              "      <th>YangSan &gt; Sanhak &gt; 4F</th>\n",
              "      <td>633747812</td>\n",
              "      <td>11268984</td>\n",
              "    </tr>\n",
              "    <tr>\n",
              "      <th>68540</th>\n",
              "      <th>YangSan &gt; Sanhak &gt; 4F</th>\n",
              "      <td>31450938719</td>\n",
              "      <td>2912428717</td>\n",
              "    </tr>\n",
              "    <tr>\n",
              "      <th>68541</th>\n",
              "      <th>YangSan &gt; Sanhak &gt; 4F</th>\n",
              "      <td>27070580553</td>\n",
              "      <td>96205390</td>\n",
              "    </tr>\n",
              "    <tr>\n",
              "      <th>68542</th>\n",
              "      <th>YangSan &gt; Sanhak &gt; 4F</th>\n",
              "      <td>1188915</td>\n",
              "      <td>193671</td>\n",
              "    </tr>\n",
              "    <tr>\n",
              "      <th>68543</th>\n",
              "      <th>YangSan &gt; Sanhak &gt; 4F</th>\n",
              "      <td>7343460</td>\n",
              "      <td>590456</td>\n",
              "    </tr>\n",
              "  </tbody>\n",
              "</table>\n",
              "<p>980595 rows × 2 columns</p>\n",
              "</div>"
            ],
            "text/plain": [
              "                                           Utilization.1 Utilization.2\n",
              "Client.6 AP.2                                                         \n",
              "0        PUSAN-OUTDOOR > PUSAN-OUTDOOR           7368301       2478767\n",
              "         Pusan > 1Sabeom (417) > 1SaBeom1F        679681        151104\n",
              "         Pusan > 1Sabeom (417) > 1SaBeom3F     231729451      25989107\n",
              "         Pusan > 2SaBeom (701) > 2SaBeom1F      92256693      16832942\n",
              "         Pusan > 2SaBeom (701) > 2SaBeom2F             0             0\n",
              "...                                                  ...           ...\n",
              "68539    YangSan > Sanhak > 4F                 633747812      11268984\n",
              "68540    YangSan > Sanhak > 4F               31450938719    2912428717\n",
              "68541    YangSan > Sanhak > 4F               27070580553      96205390\n",
              "68542    YangSan > Sanhak > 4F                   1188915        193671\n",
              "68543    YangSan > Sanhak > 4F                   7343460        590456\n",
              "\n",
              "[980595 rows x 2 columns]"
            ]
          },
          "metadata": {
            "tags": []
          },
          "execution_count": 17
        }
      ]
    },
    {
      "cell_type": "code",
      "metadata": {
        "id": "7DAxe4mfo9rI",
        "colab_type": "code",
        "colab": {}
      },
      "source": [
        "temp = grouped\n",
        "grouped.to_csv('./grouped.csv')"
      ],
      "execution_count": 18,
      "outputs": []
    },
    {
      "cell_type": "code",
      "metadata": {
        "id": "vjxKRcr_qocL",
        "colab_type": "code",
        "colab": {
          "base_uri": "https://localhost:8080/",
          "height": 404
        },
        "outputId": "6e0bd40b-9d45-4236-ed19-8e092b26802f"
      },
      "source": [
        "grouped.index"
      ],
      "execution_count": 19,
      "outputs": [
        {
          "output_type": "execute_result",
          "data": {
            "text/plain": [
              "MultiIndex([(    0,      'PUSAN-OUTDOOR > PUSAN-OUTDOOR'),\n",
              "            (    0,  'Pusan > 1Sabeom (417) > 1SaBeom1F'),\n",
              "            (    0,  'Pusan > 1Sabeom (417) > 1SaBeom3F'),\n",
              "            (    0,  'Pusan > 2SaBeom (701) > 2SaBeom1F'),\n",
              "            (    0,  'Pusan > 2SaBeom (701) > 2SaBeom2F'),\n",
              "            (    0,      'Pusan > 3Gong (105) > 3Gong3F'),\n",
              "            (    0,      'Pusan > 3Gong (105) > 3Gong4F'),\n",
              "            (    0,      'Pusan > 3Gong (105) > 3Gong5F'),\n",
              "            (    0,        'Pusan > BeunJun > BeunJun2F'),\n",
              "            (    0, 'Pusan > BonKwan (205) > BonGwan10F'),\n",
              "            ...\n",
              "            (68534,              'YangSan > Sanhak > 4F'),\n",
              "            (68535,              'YangSan > Sanhak > 4F'),\n",
              "            (68536,              'YangSan > Sanhak > 4F'),\n",
              "            (68537,              'YangSan > Sanhak > 4F'),\n",
              "            (68538,              'YangSan > Sanhak > 4F'),\n",
              "            (68539,              'YangSan > Sanhak > 4F'),\n",
              "            (68540,              'YangSan > Sanhak > 4F'),\n",
              "            (68541,              'YangSan > Sanhak > 4F'),\n",
              "            (68542,              'YangSan > Sanhak > 4F'),\n",
              "            (68543,              'YangSan > Sanhak > 4F')],\n",
              "           names=['Client.6', 'AP.2'], length=980595)"
            ]
          },
          "metadata": {
            "tags": []
          },
          "execution_count": 19
        }
      ]
    },
    {
      "cell_type": "code",
      "metadata": {
        "id": "kEgGgAxqs6OW",
        "colab_type": "code",
        "colab": {}
      },
      "source": [
        "scale = StandardScaler()\n",
        "scale.fit(grouped)\n",
        "scaled_X = scale.transform(grouped)\n",
        "grouped['scaled_x'] = scaled_X[:,0]\n",
        "grouped['scaled_y'] = scaled_X[:,1]\n",
        "dbscan = DBSCAN(eps = 0.5, min_samples = 3)\n",
        "cluster = dbscan.fit_predict(scaled_X)\n",
        "grouped['cluster'] = cluster\n",
        "\n",
        "plt.scatter(x = grouped.scaled_x, y = grouped.scaled_y, c = grouped.cluster)\n",
        "plt.title('DBSCAN Clustering in TonghabGige')\n",
        "plt.xlabel('scaled_x')\n",
        "plt.ylabel('scaled_y')"
      ],
      "execution_count": null,
      "outputs": []
    }
  ]
}