{
  "nbformat": 4,
  "nbformat_minor": 0,
  "metadata": {
    "colab": {
      "name": "groupbyClient",
      "provenance": [],
      "collapsed_sections": [],
      "authorship_tag": "ABX9TyM5IAE5S+hOjMEj9om4JhOG",
      "include_colab_link": true
    },
    "kernelspec": {
      "name": "python3",
      "display_name": "Python 3"
    }
  },
  "cells": [
    {
      "cell_type": "markdown",
      "metadata": {
        "id": "view-in-github",
        "colab_type": "text"
      },
      "source": [
        "<a href=\"https://colab.research.google.com/github/leeEunJooo/NetworkAssociation/blob/master/groupbyClient.ipynb\" target=\"_parent\"><img src=\"https://colab.research.google.com/assets/colab-badge.svg\" alt=\"Open In Colab\"/></a>"
      ]
    },
    {
      "cell_type": "code",
      "metadata": {
        "id": "UeO-fGQFGD5S",
        "colab_type": "code",
        "colab": {
          "base_uri": "https://localhost:8080/",
          "height": 125
        },
        "outputId": "eedf80d1-9a3c-4f18-d400-95b02f238f5c"
      },
      "source": [
        "from google.colab import drive\n",
        "drive.mount('/content/drive')"
      ],
      "execution_count": 1,
      "outputs": [
        {
          "output_type": "stream",
          "text": [
            "Go to this URL in a browser: https://accounts.google.com/o/oauth2/auth?client_id=947318989803-6bn6qk8qdgf4n4g3pfee6491hc0brc4i.apps.googleusercontent.com&redirect_uri=urn%3aietf%3awg%3aoauth%3a2.0%3aoob&response_type=code&scope=email%20https%3a%2f%2fwww.googleapis.com%2fauth%2fdocs.test%20https%3a%2f%2fwww.googleapis.com%2fauth%2fdrive%20https%3a%2f%2fwww.googleapis.com%2fauth%2fdrive.photos.readonly%20https%3a%2f%2fwww.googleapis.com%2fauth%2fpeopleapi.readonly\n",
            "\n",
            "Enter your authorization code:\n",
            "··········\n",
            "Mounted at /content/drive\n"
          ],
          "name": "stdout"
        }
      ]
    },
    {
      "cell_type": "code",
      "metadata": {
        "id": "i-qoht1fHXJn",
        "colab_type": "code",
        "colab": {
          "base_uri": "https://localhost:8080/",
          "height": 52
        },
        "outputId": "7513ece0-2a10-4838-df35-cf23e420be67"
      },
      "source": [
        "import pandas as pd\n",
        "import time\n",
        "import datetime\n",
        "from datetime import timedelta\n",
        "import matplotlib.pyplot as plt\n",
        "import numpy as np\n",
        "import glob\n",
        "import os\n",
        "from sklearn.cluster import DBSCAN\n",
        "from sklearn.cluster import KMeans\n",
        "from sklearn.cluster import AgglomerativeClustering\n",
        "\n",
        "import seaborn as sns\n",
        "from mpl_toolkits.mplot3d import Axes3D\n",
        "from sklearn.preprocessing import StandardScaler\n",
        "\n",
        "%matplotlib inline \n"
      ],
      "execution_count": 1,
      "outputs": [
        {
          "output_type": "stream",
          "text": [
            "/usr/local/lib/python3.6/dist-packages/statsmodels/tools/_testing.py:19: FutureWarning: pandas.util.testing is deprecated. Use the functions in the public API at pandas.testing instead.\n",
            "  import pandas.util.testing as tm\n"
          ],
          "name": "stderr"
        }
      ]
    },
    {
      "cell_type": "code",
      "metadata": {
        "id": "aX1vkEztHqks",
        "colab_type": "code",
        "colab": {
          "base_uri": "https://localhost:8080/",
          "height": 72
        },
        "outputId": "bbfcde2d-dc5d-459a-ddfc-98485fbe6b2d"
      },
      "source": [
        "data = pd.read_csv('/content/drive/My Drive/졸업과제/sortby_MAC_Time.csv')"
      ],
      "execution_count": 2,
      "outputs": [
        {
          "output_type": "stream",
          "text": [
            "/usr/local/lib/python3.6/dist-packages/IPython/core/interactiveshell.py:2718: DtypeWarning: Columns (1,8,10,11,12,13,15,16,17,18,19,20,21,22) have mixed types.Specify dtype option on import or set low_memory=False.\n",
            "  interactivity=interactivity, compiler=compiler, result=result)\n"
          ],
          "name": "stderr"
        }
      ]
    },
    {
      "cell_type": "code",
      "metadata": {
        "id": "614DlG1Yj59L",
        "colab_type": "code",
        "colab": {
          "base_uri": "https://localhost:8080/",
          "height": 858
        },
        "outputId": "015ebe1a-0a46-4423-c80a-815855f3db1d"
      },
      "source": [
        "data"
      ],
      "execution_count": 19,
      "outputs": [
        {
          "output_type": "execute_result",
          "data": {
            "text/html": [
              "<div>\n",
              "<style scoped>\n",
              "    .dataframe tbody tr th:only-of-type {\n",
              "        vertical-align: middle;\n",
              "    }\n",
              "\n",
              "    .dataframe tbody tr th {\n",
              "        vertical-align: top;\n",
              "    }\n",
              "\n",
              "    .dataframe thead th {\n",
              "        text-align: right;\n",
              "    }\n",
              "</style>\n",
              "<table border=\"1\" class=\"dataframe\">\n",
              "  <thead>\n",
              "    <tr style=\"text-align: right;\">\n",
              "      <th></th>\n",
              "      <th>Unnamed: 0</th>\n",
              "      <th>l1</th>\n",
              "      <th>AP</th>\n",
              "      <th>AP.1</th>\n",
              "      <th>AP.2</th>\n",
              "      <th>AP.3</th>\n",
              "      <th>Client.4</th>\n",
              "      <th>Client.5</th>\n",
              "      <th>Client.6</th>\n",
              "      <th>Client.10</th>\n",
              "      <th>Session Duration</th>\n",
              "      <th>Session Duration.1</th>\n",
              "      <th>Session Duration.2</th>\n",
              "      <th>Session Duration.3</th>\n",
              "      <th>Utilization</th>\n",
              "      <th>Utilization.1</th>\n",
              "      <th>Utilization.2</th>\n",
              "      <th>Utilization.3</th>\n",
              "      <th>Utilization.4</th>\n",
              "      <th>Utilization.5</th>\n",
              "      <th>Utilization.6</th>\n",
              "      <th>Utilization.7</th>\n",
              "      <th>Utilization.8</th>\n",
              "      <th>Disassociation Time.6</th>\n",
              "      <th>Association Time.6</th>\n",
              "    </tr>\n",
              "  </thead>\n",
              "  <tbody>\n",
              "    <tr>\n",
              "      <th>0</th>\n",
              "      <td>0</td>\n",
              "      <td>l2</td>\n",
              "      <td>IP Address</td>\n",
              "      <td>MAC Address</td>\n",
              "      <td>Map Location</td>\n",
              "      <td>Name</td>\n",
              "      <td>Endpoint Type</td>\n",
              "      <td>IP Address</td>\n",
              "      <td>MAC Address</td>\n",
              "      <td>SSID</td>\n",
              "      <td>days</td>\n",
              "      <td>hours</td>\n",
              "      <td>minutes</td>\n",
              "      <td>seconds</td>\n",
              "      <td>Avg. Session Throughput (Kbps)</td>\n",
              "      <td>Bytes Received</td>\n",
              "      <td>Bytes Sent</td>\n",
              "      <td>Data Retries</td>\n",
              "      <td>Packets Received</td>\n",
              "      <td>Packets Sent</td>\n",
              "      <td>RSSI (dBm)</td>\n",
              "      <td>RTS Retries</td>\n",
              "      <td>SNR (dB)</td>\n",
              "      <td>NaN</td>\n",
              "      <td>NaN</td>\n",
              "    </tr>\n",
              "    <tr>\n",
              "      <th>1</th>\n",
              "      <td>1</td>\n",
              "      <td>4408787</td>\n",
              "      <td>172.20.120.113</td>\n",
              "      <td>00:c8:8b:21:ae:80</td>\n",
              "      <td>Pusan &gt; Inmoon (306) &gt; Inmoon 1F</td>\n",
              "      <td>16AP-306-1-3</td>\n",
              "      <td>Android-LG</td>\n",
              "      <td>164.125.250.67</td>\n",
              "      <td>0</td>\n",
              "      <td>PNU-WiFi</td>\n",
              "      <td>0</td>\n",
              "      <td>0</td>\n",
              "      <td>15</td>\n",
              "      <td>3</td>\n",
              "      <td>&lt;0.1</td>\n",
              "      <td>0</td>\n",
              "      <td>0</td>\n",
              "      <td>9155</td>\n",
              "      <td>0</td>\n",
              "      <td>0</td>\n",
              "      <td>-71</td>\n",
              "      <td>0</td>\n",
              "      <td>19</td>\n",
              "      <td>2019-05-19 00:49:46</td>\n",
              "      <td>2019-05-19 00:34:43</td>\n",
              "    </tr>\n",
              "    <tr>\n",
              "      <th>2</th>\n",
              "      <td>2</td>\n",
              "      <td>3451965</td>\n",
              "      <td>172.20.146.92</td>\n",
              "      <td>08:17:35:c7:5c:50</td>\n",
              "      <td>PUSAN-OUTDOOR &gt; PUSAN-OUTDOOR</td>\n",
              "      <td>11S-508-OUT-2</td>\n",
              "      <td>Android-LG</td>\n",
              "      <td>164.125.250.67</td>\n",
              "      <td>0</td>\n",
              "      <td>PNU-WiFi</td>\n",
              "      <td>0</td>\n",
              "      <td>0</td>\n",
              "      <td>35</td>\n",
              "      <td>6</td>\n",
              "      <td>6.8</td>\n",
              "      <td>159257</td>\n",
              "      <td>95660</td>\n",
              "      <td>278</td>\n",
              "      <td>327</td>\n",
              "      <td>383</td>\n",
              "      <td>-87</td>\n",
              "      <td>0</td>\n",
              "      <td>8</td>\n",
              "      <td>2019-05-19 01:24:52</td>\n",
              "      <td>2019-05-19 00:49:46</td>\n",
              "    </tr>\n",
              "    <tr>\n",
              "      <th>3</th>\n",
              "      <td>3</td>\n",
              "      <td>4980360</td>\n",
              "      <td>164.125.10.205</td>\n",
              "      <td>44:e4:d9:85:2d:a0</td>\n",
              "      <td>Pusan &gt; NewJunsan (515) &gt; NewJunsan 1F</td>\n",
              "      <td>SAP-10.205</td>\n",
              "      <td>Android-LG</td>\n",
              "      <td>164.125.250.67</td>\n",
              "      <td>0</td>\n",
              "      <td>PNU-WiFi</td>\n",
              "      <td>0</td>\n",
              "      <td>0</td>\n",
              "      <td>35</td>\n",
              "      <td>8</td>\n",
              "      <td>&lt;0.1</td>\n",
              "      <td>0</td>\n",
              "      <td>0</td>\n",
              "      <td>278</td>\n",
              "      <td>0</td>\n",
              "      <td>0</td>\n",
              "      <td>-73</td>\n",
              "      <td>0</td>\n",
              "      <td>21</td>\n",
              "      <td>2019-05-19 02:05:03</td>\n",
              "      <td>2019-05-19 01:29:55</td>\n",
              "    </tr>\n",
              "    <tr>\n",
              "      <th>4</th>\n",
              "      <td>4</td>\n",
              "      <td>4487815</td>\n",
              "      <td>172.20.119.131</td>\n",
              "      <td>cc:16:7e:3e:10:40</td>\n",
              "      <td>Pusan &gt; Inmoon (306) &gt; Inmoon 3F</td>\n",
              "      <td>16K-306-3-1</td>\n",
              "      <td>Android-LG</td>\n",
              "      <td>164.125.250.67</td>\n",
              "      <td>0</td>\n",
              "      <td>PNU-WiFi</td>\n",
              "      <td>0</td>\n",
              "      <td>0</td>\n",
              "      <td>10</td>\n",
              "      <td>3</td>\n",
              "      <td>&lt;0.1</td>\n",
              "      <td>0</td>\n",
              "      <td>0</td>\n",
              "      <td>7</td>\n",
              "      <td>0</td>\n",
              "      <td>0</td>\n",
              "      <td>-76</td>\n",
              "      <td>0</td>\n",
              "      <td>11</td>\n",
              "      <td>2019-05-19 03:05:25</td>\n",
              "      <td>2019-05-19 02:55:22</td>\n",
              "    </tr>\n",
              "    <tr>\n",
              "      <th>...</th>\n",
              "      <td>...</td>\n",
              "      <td>...</td>\n",
              "      <td>...</td>\n",
              "      <td>...</td>\n",
              "      <td>...</td>\n",
              "      <td>...</td>\n",
              "      <td>...</td>\n",
              "      <td>...</td>\n",
              "      <td>...</td>\n",
              "      <td>...</td>\n",
              "      <td>...</td>\n",
              "      <td>...</td>\n",
              "      <td>...</td>\n",
              "      <td>...</td>\n",
              "      <td>...</td>\n",
              "      <td>...</td>\n",
              "      <td>...</td>\n",
              "      <td>...</td>\n",
              "      <td>...</td>\n",
              "      <td>...</td>\n",
              "      <td>...</td>\n",
              "      <td>...</td>\n",
              "      <td>...</td>\n",
              "      <td>...</td>\n",
              "      <td>...</td>\n",
              "    </tr>\n",
              "    <tr>\n",
              "      <th>9775558</th>\n",
              "      <td>9775558</td>\n",
              "      <td>9769174</td>\n",
              "      <td>172.20.180.145</td>\n",
              "      <td>50:0f:80:39:ad:80</td>\n",
              "      <td>YangSan &gt; Sanhak &gt; 4F</td>\n",
              "      <td>17AP-Y15-4-2</td>\n",
              "      <td>Microsoft-Workstation</td>\n",
              "      <td>164.125.250.118</td>\n",
              "      <td>68541</td>\n",
              "      <td>PNU-WiFi</td>\n",
              "      <td>0</td>\n",
              "      <td>0</td>\n",
              "      <td>15</td>\n",
              "      <td>4</td>\n",
              "      <td>21.3</td>\n",
              "      <td>756432</td>\n",
              "      <td>71689</td>\n",
              "      <td>844</td>\n",
              "      <td>766</td>\n",
              "      <td>609</td>\n",
              "      <td>-67</td>\n",
              "      <td>0</td>\n",
              "      <td>28</td>\n",
              "      <td>2020-02-07 12:01:22</td>\n",
              "      <td>2020-02-07 11:46:18</td>\n",
              "    </tr>\n",
              "    <tr>\n",
              "      <th>9775559</th>\n",
              "      <td>9775559</td>\n",
              "      <td>9769175</td>\n",
              "      <td>172.20.180.145</td>\n",
              "      <td>50:0f:80:39:ad:80</td>\n",
              "      <td>YangSan &gt; Sanhak &gt; 4F</td>\n",
              "      <td>17AP-Y15-4-2</td>\n",
              "      <td>Microsoft-Workstation</td>\n",
              "      <td>164.125.250.118</td>\n",
              "      <td>68541</td>\n",
              "      <td>PNU-WiFi</td>\n",
              "      <td>0</td>\n",
              "      <td>2</td>\n",
              "      <td>25</td>\n",
              "      <td>49</td>\n",
              "      <td>24,837.4</td>\n",
              "      <td>27069824121</td>\n",
              "      <td>96133701</td>\n",
              "      <td>2117751</td>\n",
              "      <td>26349941</td>\n",
              "      <td>1522114</td>\n",
              "      <td>-63</td>\n",
              "      <td>0</td>\n",
              "      <td>32</td>\n",
              "      <td>2020-02-07 16:27:45</td>\n",
              "      <td>2020-02-07 14:01:56</td>\n",
              "    </tr>\n",
              "    <tr>\n",
              "      <th>9775560</th>\n",
              "      <td>9775560</td>\n",
              "      <td>9773329</td>\n",
              "      <td>172.20.180.150</td>\n",
              "      <td>40:01:7a:83:a1:c0</td>\n",
              "      <td>YangSan &gt; Sanhak &gt; 4F</td>\n",
              "      <td>17AP-Y15-4-7</td>\n",
              "      <td>Microsoft-Workstation</td>\n",
              "      <td>172.21.15.12</td>\n",
              "      <td>68542</td>\n",
              "      <td>PNU-WiFi</td>\n",
              "      <td>0</td>\n",
              "      <td>0</td>\n",
              "      <td>30</td>\n",
              "      <td>11</td>\n",
              "      <td>6.6</td>\n",
              "      <td>1188915</td>\n",
              "      <td>193671</td>\n",
              "      <td>852</td>\n",
              "      <td>1429</td>\n",
              "      <td>1251</td>\n",
              "      <td>-51</td>\n",
              "      <td>0</td>\n",
              "      <td>44</td>\n",
              "      <td>2019-10-15 13:21:26</td>\n",
              "      <td>2019-10-15 12:51:15</td>\n",
              "    </tr>\n",
              "    <tr>\n",
              "      <th>9775561</th>\n",
              "      <td>9775561</td>\n",
              "      <td>9773330</td>\n",
              "      <td>172.20.180.150</td>\n",
              "      <td>40:01:7a:83:a1:c0</td>\n",
              "      <td>YangSan &gt; Sanhak &gt; 4F</td>\n",
              "      <td>17AP-Y15-4-7</td>\n",
              "      <td>Microsoft-Workstation</td>\n",
              "      <td>172.21.15.12</td>\n",
              "      <td>68542</td>\n",
              "      <td>PNU-WiFi</td>\n",
              "      <td>0</td>\n",
              "      <td>0</td>\n",
              "      <td>4</td>\n",
              "      <td>59</td>\n",
              "      <td>&lt;0.1</td>\n",
              "      <td>0</td>\n",
              "      <td>0</td>\n",
              "      <td>423</td>\n",
              "      <td>0</td>\n",
              "      <td>0</td>\n",
              "      <td>-52</td>\n",
              "      <td>0</td>\n",
              "      <td>38</td>\n",
              "      <td>2019-10-15 14:02:02</td>\n",
              "      <td>2019-10-15 13:57:03</td>\n",
              "    </tr>\n",
              "    <tr>\n",
              "      <th>9775562</th>\n",
              "      <td>9775562</td>\n",
              "      <td>9773371</td>\n",
              "      <td>172.20.180.150</td>\n",
              "      <td>40:01:7a:83:a1:c0</td>\n",
              "      <td>YangSan &gt; Sanhak &gt; 4F</td>\n",
              "      <td>17AP-Y15-4-7</td>\n",
              "      <td>Microsoft-Workstation</td>\n",
              "      <td>172.21.37.168</td>\n",
              "      <td>68543</td>\n",
              "      <td>PNU-WiFi</td>\n",
              "      <td>0</td>\n",
              "      <td>0</td>\n",
              "      <td>30</td>\n",
              "      <td>14</td>\n",
              "      <td>35.0</td>\n",
              "      <td>7343460</td>\n",
              "      <td>590456</td>\n",
              "      <td>359</td>\n",
              "      <td>6087</td>\n",
              "      <td>3094</td>\n",
              "      <td>-57</td>\n",
              "      <td>0</td>\n",
              "      <td>29</td>\n",
              "      <td>2019-10-01 13:45:27</td>\n",
              "      <td>2019-10-01 13:15:13</td>\n",
              "    </tr>\n",
              "  </tbody>\n",
              "</table>\n",
              "<p>9775563 rows × 25 columns</p>\n",
              "</div>"
            ],
            "text/plain": [
              "         Unnamed: 0       l1  ... Disassociation Time.6   Association Time.6\n",
              "0                 0       l2  ...                   NaN                  NaN\n",
              "1                 1  4408787  ...   2019-05-19 00:49:46  2019-05-19 00:34:43\n",
              "2                 2  3451965  ...   2019-05-19 01:24:52  2019-05-19 00:49:46\n",
              "3                 3  4980360  ...   2019-05-19 02:05:03  2019-05-19 01:29:55\n",
              "4                 4  4487815  ...   2019-05-19 03:05:25  2019-05-19 02:55:22\n",
              "...             ...      ...  ...                   ...                  ...\n",
              "9775558     9775558  9769174  ...   2020-02-07 12:01:22  2020-02-07 11:46:18\n",
              "9775559     9775559  9769175  ...   2020-02-07 16:27:45  2020-02-07 14:01:56\n",
              "9775560     9775560  9773329  ...   2019-10-15 13:21:26  2019-10-15 12:51:15\n",
              "9775561     9775561  9773330  ...   2019-10-15 14:02:02  2019-10-15 13:57:03\n",
              "9775562     9775562  9773371  ...   2019-10-01 13:45:27  2019-10-01 13:15:13\n",
              "\n",
              "[9775563 rows x 25 columns]"
            ]
          },
          "metadata": {
            "tags": []
          },
          "execution_count": 19
        }
      ]
    },
    {
      "cell_type": "code",
      "metadata": {
        "id": "cXIf46kVI0hR",
        "colab_type": "code",
        "colab": {
          "base_uri": "https://localhost:8080/",
          "height": 140
        },
        "outputId": "285c19ce-0a1d-47cb-f9f9-3a690af3c90e"
      },
      "source": [
        "data['Client.10'].value_counts()"
      ],
      "execution_count": 4,
      "outputs": [
        {
          "output_type": "execute_result",
          "data": {
            "text/plain": [
              "PNU-WiFi     8591919\n",
              "eduroam      1183430\n",
              "IPHAK-2          132\n",
              "PNU-GUIDE         78\n",
              "flextest           3\n",
              "SSID               1\n",
              "Name: Client.10, dtype: int64"
            ]
          },
          "metadata": {
            "tags": []
          },
          "execution_count": 4
        }
      ]
    },
    {
      "cell_type": "code",
      "metadata": {
        "id": "2nLfhrWWLW3T",
        "colab_type": "code",
        "colab": {
          "base_uri": "https://localhost:8080/",
          "height": 70
        },
        "outputId": "1f3092a9-d91d-4301-c506-ec0ce885c45c"
      },
      "source": [
        "set(data[data['Client.6'] == 8267]['AP.2'])"
      ],
      "execution_count": 5,
      "outputs": [
        {
          "output_type": "execute_result",
          "data": {
            "text/plain": [
              "{'Pusan > GunSul (401) > Gunsul7F',\n",
              " 'Pusan > GunSul (401) > Gunsul8F',\n",
              " 'Pusan > GunSul (401) > Gunsul9F'}"
            ]
          },
          "metadata": {
            "tags": []
          },
          "execution_count": 5
        }
      ]
    },
    {
      "cell_type": "code",
      "metadata": {
        "id": "HFpDuMBMLmql",
        "colab_type": "code",
        "colab": {
          "base_uri": "https://localhost:8080/",
          "height": 34
        },
        "outputId": "5dd74b7c-ebc9-47a5-88b0-ef2f618fca28"
      },
      "source": [
        "data[data['Client.6'] == 8267]['Utilization.2'].sum()"
      ],
      "execution_count": 6,
      "outputs": [
        {
          "output_type": "execute_result",
          "data": {
            "text/plain": [
              "59245604"
            ]
          },
          "metadata": {
            "tags": []
          },
          "execution_count": 6
        }
      ]
    },
    {
      "cell_type": "code",
      "metadata": {
        "id": "BtWxuy7yLxAj",
        "colab_type": "code",
        "colab": {
          "base_uri": "https://localhost:8080/",
          "height": 87
        },
        "outputId": "af3f5172-0ef0-4946-eae9-9289f9092edd"
      },
      "source": [
        "set(data[data['Client.6'] == 41834]['AP.2'])"
      ],
      "execution_count": 7,
      "outputs": [
        {
          "output_type": "execute_result",
          "data": {
            "text/plain": [
              "{'PUSAN-OUTDOOR > PUSAN-OUTDOOR',\n",
              " 'Pusan > BonKwan (205) > BonGwan1F',\n",
              " 'Pusan > NewJunsan (515) > NewJunsan 1F',\n",
              " 'Pusan > NewJunsan (515) > NewJunsan 2F'}"
            ]
          },
          "metadata": {
            "tags": []
          },
          "execution_count": 7
        }
      ]
    },
    {
      "cell_type": "code",
      "metadata": {
        "id": "10y6ILsvLu6k",
        "colab_type": "code",
        "colab": {
          "base_uri": "https://localhost:8080/",
          "height": 34
        },
        "outputId": "b4709e80-e417-401d-fdca-784818191edd"
      },
      "source": [
        "data[data['Client.6'] == 41834]['Utilization.2'].sum()"
      ],
      "execution_count": 8,
      "outputs": [
        {
          "output_type": "execute_result",
          "data": {
            "text/plain": [
              "746327113"
            ]
          },
          "metadata": {
            "tags": []
          },
          "execution_count": 8
        }
      ]
    },
    {
      "cell_type": "markdown",
      "metadata": {
        "id": "QqaiSlnX4XLr",
        "colab_type": "text"
      },
      "source": [
        "#위 두가지를 비교해보면 8267이 연결 횟수가 더 많지만 데이터 총량은 41834가 훨씬 많음"
      ]
    },
    {
      "cell_type": "code",
      "metadata": {
        "id": "XD2w7-FIMsYI",
        "colab_type": "code",
        "colab": {}
      },
      "source": [
        "only = data[['Client.6', 'AP.2', 'Utilization.1', 'Utilization.2']]"
      ],
      "execution_count": 9,
      "outputs": []
    },
    {
      "cell_type": "markdown",
      "metadata": {
        "id": "7hnCEiN_4dz6",
        "colab_type": "text"
      },
      "source": [
        "#Client MAC 주소와 AP 위치, 바이트 주고 받은 양만 일단 골라내봄"
      ]
    },
    {
      "cell_type": "code",
      "metadata": {
        "id": "n4CKR39HSgJB",
        "colab_type": "code",
        "colab": {
          "base_uri": "https://localhost:8080/",
          "height": 193
        },
        "outputId": "0288916b-bb4d-49ce-d729-b5831636cb82"
      },
      "source": [
        "only['Utilization.1'][1:] = pd.to_numeric(only['Utilization.1'][1:])\n",
        "only['Utilization.2'][1:] = pd.to_numeric(only['Utilization.2'][1:])\n",
        "only['Client.6'][1:] = pd.to_numeric(only['Client.6'][1:])"
      ],
      "execution_count": 10,
      "outputs": [
        {
          "output_type": "stream",
          "text": [
            "/usr/local/lib/python3.6/dist-packages/pandas/core/series.py:1042: SettingWithCopyWarning: \n",
            "A value is trying to be set on a copy of a slice from a DataFrame\n",
            "\n",
            "See the caveats in the documentation: https://pandas.pydata.org/pandas-docs/stable/user_guide/indexing.html#returning-a-view-versus-a-copy\n",
            "  self._set_with(key, value)\n",
            "/usr/local/lib/python3.6/dist-packages/IPython/core/interactiveshell.py:2882: SettingWithCopyWarning: \n",
            "A value is trying to be set on a copy of a slice from a DataFrame\n",
            "\n",
            "See the caveats in the documentation: https://pandas.pydata.org/pandas-docs/stable/user_guide/indexing.html#returning-a-view-versus-a-copy\n",
            "  exec(code_obj, self.user_global_ns, self.user_ns)\n"
          ],
          "name": "stderr"
        }
      ]
    },
    {
      "cell_type": "code",
      "metadata": {
        "id": "wXFHKyqi0bRc",
        "colab_type": "code",
        "colab": {}
      },
      "source": [
        "temp = only\n",
        "temp = temp.drop(0,0)"
      ],
      "execution_count": 42,
      "outputs": []
    },
    {
      "cell_type": "code",
      "metadata": {
        "id": "nv15QBlb00Y_",
        "colab_type": "code",
        "colab": {
          "base_uri": "https://localhost:8080/",
          "height": 246
        },
        "outputId": "b58791e0-4eb4-451f-d94f-80358334470f"
      },
      "source": [
        "aa = temp.groupby('Client.6').size()\n",
        "delete = []\n",
        "aa"
      ],
      "execution_count": 43,
      "outputs": [
        {
          "output_type": "execute_result",
          "data": {
            "text/plain": [
              "Client.6\n",
              "0         423\n",
              "1         695\n",
              "2         784\n",
              "3         894\n",
              "4        2101\n",
              "         ... \n",
              "68539       1\n",
              "68540      19\n",
              "68541       2\n",
              "68542       2\n",
              "68543       1\n",
              "Length: 68544, dtype: int64"
            ]
          },
          "metadata": {
            "tags": []
          },
          "execution_count": 43
        }
      ]
    },
    {
      "cell_type": "markdown",
      "metadata": {
        "id": "v5DMi9RYsVOz",
        "colab_type": "text"
      },
      "source": [
        ""
      ]
    },
    {
      "cell_type": "code",
      "metadata": {
        "id": "gTEWjovn2pBb",
        "colab_type": "code",
        "colab": {}
      },
      "source": [
        "for a in aa :\n",
        "  if aa[a] < 1000 :\n",
        "    delete.append(a)"
      ],
      "execution_count": 44,
      "outputs": []
    },
    {
      "cell_type": "code",
      "metadata": {
        "id": "ApvHqu0Rt6Zo",
        "colab_type": "code",
        "colab": {
          "base_uri": "https://localhost:8080/",
          "height": 122
        },
        "outputId": "0164f4b8-0f57-44b8-a007-0521cc4640cd"
      },
      "source": [
        "delete_index = temp[temp['Client.6'].isin(delete)].index\n",
        "delete_index"
      ],
      "execution_count": 45,
      "outputs": [
        {
          "output_type": "execute_result",
          "data": {
            "text/plain": [
              "Int64Index([    424,     425,     426,     427,     428,     429,     430,\n",
              "                431,     432,     433,\n",
              "            ...\n",
              "            2660251, 2660252, 2660253, 2660254, 2660255, 2660256, 2660257,\n",
              "            2660258, 2660259, 2660260],\n",
              "           dtype='int64', length=538565)"
            ]
          },
          "metadata": {
            "tags": []
          },
          "execution_count": 45
        }
      ]
    },
    {
      "cell_type": "code",
      "metadata": {
        "id": "s6Q9J1rSwELG",
        "colab_type": "code",
        "colab": {
          "base_uri": "https://localhost:8080/",
          "height": 34
        },
        "outputId": "2909476b-df8c-4b44-95e1-e74740a643fe"
      },
      "source": [
        "len(delete_index)"
      ],
      "execution_count": 46,
      "outputs": [
        {
          "output_type": "execute_result",
          "data": {
            "text/plain": [
              "538565"
            ]
          },
          "metadata": {
            "tags": []
          },
          "execution_count": 46
        }
      ]
    },
    {
      "cell_type": "markdown",
      "metadata": {
        "id": "u7ViDMk3v1E4",
        "colab_type": "text"
      },
      "source": [
        "#session 100개 이하인것들의 index"
      ]
    },
    {
      "cell_type": "code",
      "metadata": {
        "id": "59XlfW2JoUjc",
        "colab_type": "code",
        "colab": {}
      },
      "source": [
        "temp = temp.drop(delete_index)"
      ],
      "execution_count": 47,
      "outputs": []
    },
    {
      "cell_type": "code",
      "metadata": {
        "id": "JzfisEwLumYR",
        "colab_type": "code",
        "colab": {
          "base_uri": "https://localhost:8080/",
          "height": 402
        },
        "outputId": "cbaaeadb-e2ff-4706-e50d-65f44401c7a9"
      },
      "source": [
        "temp"
      ],
      "execution_count": 48,
      "outputs": [
        {
          "output_type": "execute_result",
          "data": {
            "text/html": [
              "<div>\n",
              "<style scoped>\n",
              "    .dataframe tbody tr th:only-of-type {\n",
              "        vertical-align: middle;\n",
              "    }\n",
              "\n",
              "    .dataframe tbody tr th {\n",
              "        vertical-align: top;\n",
              "    }\n",
              "\n",
              "    .dataframe thead th {\n",
              "        text-align: right;\n",
              "    }\n",
              "</style>\n",
              "<table border=\"1\" class=\"dataframe\">\n",
              "  <thead>\n",
              "    <tr style=\"text-align: right;\">\n",
              "      <th></th>\n",
              "      <th>Client.6</th>\n",
              "      <th>AP.2</th>\n",
              "      <th>Utilization.1</th>\n",
              "      <th>Utilization.2</th>\n",
              "    </tr>\n",
              "  </thead>\n",
              "  <tbody>\n",
              "    <tr>\n",
              "      <th>1</th>\n",
              "      <td>0</td>\n",
              "      <td>Pusan &gt; Inmoon (306) &gt; Inmoon 1F</td>\n",
              "      <td>0</td>\n",
              "      <td>0</td>\n",
              "    </tr>\n",
              "    <tr>\n",
              "      <th>2</th>\n",
              "      <td>0</td>\n",
              "      <td>PUSAN-OUTDOOR &gt; PUSAN-OUTDOOR</td>\n",
              "      <td>159257</td>\n",
              "      <td>95660</td>\n",
              "    </tr>\n",
              "    <tr>\n",
              "      <th>3</th>\n",
              "      <td>0</td>\n",
              "      <td>Pusan &gt; NewJunsan (515) &gt; NewJunsan 1F</td>\n",
              "      <td>0</td>\n",
              "      <td>0</td>\n",
              "    </tr>\n",
              "    <tr>\n",
              "      <th>4</th>\n",
              "      <td>0</td>\n",
              "      <td>Pusan &gt; Inmoon (306) &gt; Inmoon 3F</td>\n",
              "      <td>0</td>\n",
              "      <td>0</td>\n",
              "    </tr>\n",
              "    <tr>\n",
              "      <th>5</th>\n",
              "      <td>0</td>\n",
              "      <td>Pusan &gt; BonKwan (205) &gt; BonGwan10F</td>\n",
              "      <td>0</td>\n",
              "      <td>0</td>\n",
              "    </tr>\n",
              "    <tr>\n",
              "      <th>...</th>\n",
              "      <td>...</td>\n",
              "      <td>...</td>\n",
              "      <td>...</td>\n",
              "      <td>...</td>\n",
              "    </tr>\n",
              "    <tr>\n",
              "      <th>9775558</th>\n",
              "      <td>68541</td>\n",
              "      <td>YangSan &gt; Sanhak &gt; 4F</td>\n",
              "      <td>756432</td>\n",
              "      <td>71689</td>\n",
              "    </tr>\n",
              "    <tr>\n",
              "      <th>9775559</th>\n",
              "      <td>68541</td>\n",
              "      <td>YangSan &gt; Sanhak &gt; 4F</td>\n",
              "      <td>27069824121</td>\n",
              "      <td>96133701</td>\n",
              "    </tr>\n",
              "    <tr>\n",
              "      <th>9775560</th>\n",
              "      <td>68542</td>\n",
              "      <td>YangSan &gt; Sanhak &gt; 4F</td>\n",
              "      <td>1188915</td>\n",
              "      <td>193671</td>\n",
              "    </tr>\n",
              "    <tr>\n",
              "      <th>9775561</th>\n",
              "      <td>68542</td>\n",
              "      <td>YangSan &gt; Sanhak &gt; 4F</td>\n",
              "      <td>0</td>\n",
              "      <td>0</td>\n",
              "    </tr>\n",
              "    <tr>\n",
              "      <th>9775562</th>\n",
              "      <td>68543</td>\n",
              "      <td>YangSan &gt; Sanhak &gt; 4F</td>\n",
              "      <td>7343460</td>\n",
              "      <td>590456</td>\n",
              "    </tr>\n",
              "  </tbody>\n",
              "</table>\n",
              "<p>9236997 rows × 4 columns</p>\n",
              "</div>"
            ],
            "text/plain": [
              "        Client.6  ... Utilization.2\n",
              "1              0  ...             0\n",
              "2              0  ...         95660\n",
              "3              0  ...             0\n",
              "4              0  ...             0\n",
              "5              0  ...             0\n",
              "...          ...  ...           ...\n",
              "9775558    68541  ...         71689\n",
              "9775559    68541  ...      96133701\n",
              "9775560    68542  ...        193671\n",
              "9775561    68542  ...             0\n",
              "9775562    68543  ...        590456\n",
              "\n",
              "[9236997 rows x 4 columns]"
            ]
          },
          "metadata": {
            "tags": []
          },
          "execution_count": 48
        }
      ]
    },
    {
      "cell_type": "markdown",
      "metadata": {
        "id": "lyc_s1aq4mh7",
        "colab_type": "text"
      },
      "source": [
        "#groupby 하는데 시간이 너무 오래걸려서 연결 횟수가 1000번 아래인것들은 제외"
      ]
    },
    {
      "cell_type": "code",
      "metadata": {
        "id": "qEbdC5uZMyDB",
        "colab_type": "code",
        "colab": {}
      },
      "source": [
        "grouped = temp.groupby(by = ['Client.6', 'AP.2']).sum()"
      ],
      "execution_count": 49,
      "outputs": []
    },
    {
      "cell_type": "code",
      "metadata": {
        "id": "_an39EYIn3Hm",
        "colab_type": "code",
        "colab": {
          "base_uri": "https://localhost:8080/",
          "height": 431
        },
        "outputId": "d83ced05-6737-420d-a1f8-36e74e097767"
      },
      "source": [
        "grouped"
      ],
      "execution_count": 50,
      "outputs": [
        {
          "output_type": "execute_result",
          "data": {
            "text/html": [
              "<div>\n",
              "<style scoped>\n",
              "    .dataframe tbody tr th:only-of-type {\n",
              "        vertical-align: middle;\n",
              "    }\n",
              "\n",
              "    .dataframe tbody tr th {\n",
              "        vertical-align: top;\n",
              "    }\n",
              "\n",
              "    .dataframe thead th {\n",
              "        text-align: right;\n",
              "    }\n",
              "</style>\n",
              "<table border=\"1\" class=\"dataframe\">\n",
              "  <thead>\n",
              "    <tr style=\"text-align: right;\">\n",
              "      <th></th>\n",
              "      <th></th>\n",
              "      <th>Utilization.1</th>\n",
              "      <th>Utilization.2</th>\n",
              "    </tr>\n",
              "    <tr>\n",
              "      <th>Client.6</th>\n",
              "      <th>AP.2</th>\n",
              "      <th></th>\n",
              "      <th></th>\n",
              "    </tr>\n",
              "  </thead>\n",
              "  <tbody>\n",
              "    <tr>\n",
              "      <th rowspan=\"5\" valign=\"top\">0</th>\n",
              "      <th>PUSAN-OUTDOOR &gt; PUSAN-OUTDOOR</th>\n",
              "      <td>7368301</td>\n",
              "      <td>2478767</td>\n",
              "    </tr>\n",
              "    <tr>\n",
              "      <th>Pusan &gt; 1Sabeom (417) &gt; 1SaBeom1F</th>\n",
              "      <td>679681</td>\n",
              "      <td>151104</td>\n",
              "    </tr>\n",
              "    <tr>\n",
              "      <th>Pusan &gt; 1Sabeom (417) &gt; 1SaBeom3F</th>\n",
              "      <td>231729451</td>\n",
              "      <td>25989107</td>\n",
              "    </tr>\n",
              "    <tr>\n",
              "      <th>Pusan &gt; 2SaBeom (701) &gt; 2SaBeom1F</th>\n",
              "      <td>92256693</td>\n",
              "      <td>16832942</td>\n",
              "    </tr>\n",
              "    <tr>\n",
              "      <th>Pusan &gt; 2SaBeom (701) &gt; 2SaBeom2F</th>\n",
              "      <td>0</td>\n",
              "      <td>0</td>\n",
              "    </tr>\n",
              "    <tr>\n",
              "      <th>...</th>\n",
              "      <th>...</th>\n",
              "      <td>...</td>\n",
              "      <td>...</td>\n",
              "    </tr>\n",
              "    <tr>\n",
              "      <th>68539</th>\n",
              "      <th>YangSan &gt; Sanhak &gt; 4F</th>\n",
              "      <td>633747812</td>\n",
              "      <td>11268984</td>\n",
              "    </tr>\n",
              "    <tr>\n",
              "      <th>68540</th>\n",
              "      <th>YangSan &gt; Sanhak &gt; 4F</th>\n",
              "      <td>31450938719</td>\n",
              "      <td>2912428717</td>\n",
              "    </tr>\n",
              "    <tr>\n",
              "      <th>68541</th>\n",
              "      <th>YangSan &gt; Sanhak &gt; 4F</th>\n",
              "      <td>27070580553</td>\n",
              "      <td>96205390</td>\n",
              "    </tr>\n",
              "    <tr>\n",
              "      <th>68542</th>\n",
              "      <th>YangSan &gt; Sanhak &gt; 4F</th>\n",
              "      <td>1188915</td>\n",
              "      <td>193671</td>\n",
              "    </tr>\n",
              "    <tr>\n",
              "      <th>68543</th>\n",
              "      <th>YangSan &gt; Sanhak &gt; 4F</th>\n",
              "      <td>7343460</td>\n",
              "      <td>590456</td>\n",
              "    </tr>\n",
              "  </tbody>\n",
              "</table>\n",
              "<p>923451 rows × 2 columns</p>\n",
              "</div>"
            ],
            "text/plain": [
              "                                            Utilization.1  Utilization.2\n",
              "Client.6 AP.2                                                           \n",
              "0        PUSAN-OUTDOOR > PUSAN-OUTDOOR            7368301        2478767\n",
              "         Pusan > 1Sabeom (417) > 1SaBeom1F         679681         151104\n",
              "         Pusan > 1Sabeom (417) > 1SaBeom3F      231729451       25989107\n",
              "         Pusan > 2SaBeom (701) > 2SaBeom1F       92256693       16832942\n",
              "         Pusan > 2SaBeom (701) > 2SaBeom2F              0              0\n",
              "...                                                   ...            ...\n",
              "68539    YangSan > Sanhak > 4F                  633747812       11268984\n",
              "68540    YangSan > Sanhak > 4F                31450938719     2912428717\n",
              "68541    YangSan > Sanhak > 4F                27070580553       96205390\n",
              "68542    YangSan > Sanhak > 4F                    1188915         193671\n",
              "68543    YangSan > Sanhak > 4F                    7343460         590456\n",
              "\n",
              "[923451 rows x 2 columns]"
            ]
          },
          "metadata": {
            "tags": []
          },
          "execution_count": 50
        }
      ]
    },
    {
      "cell_type": "code",
      "metadata": {
        "id": "9cI69EX85o0z",
        "colab_type": "code",
        "colab": {}
      },
      "source": [
        "\n"
      ],
      "execution_count": null,
      "outputs": []
    },
    {
      "cell_type": "code",
      "metadata": {
        "id": "ViCdkvvQ5KOB",
        "colab_type": "code",
        "colab": {
          "base_uri": "https://localhost:8080/",
          "height": 402
        },
        "outputId": "35017198-52db-40f2-bf7f-624d3c75e44c"
      },
      "source": [
        "rgrouped = grouped.reset_index(drop = False, inplace = False)\n",
        "rgrouped"
      ],
      "execution_count": 83,
      "outputs": [
        {
          "output_type": "execute_result",
          "data": {
            "text/html": [
              "<div>\n",
              "<style scoped>\n",
              "    .dataframe tbody tr th:only-of-type {\n",
              "        vertical-align: middle;\n",
              "    }\n",
              "\n",
              "    .dataframe tbody tr th {\n",
              "        vertical-align: top;\n",
              "    }\n",
              "\n",
              "    .dataframe thead th {\n",
              "        text-align: right;\n",
              "    }\n",
              "</style>\n",
              "<table border=\"1\" class=\"dataframe\">\n",
              "  <thead>\n",
              "    <tr style=\"text-align: right;\">\n",
              "      <th></th>\n",
              "      <th>Client.6</th>\n",
              "      <th>AP.2</th>\n",
              "      <th>Utilization.1</th>\n",
              "      <th>Utilization.2</th>\n",
              "    </tr>\n",
              "  </thead>\n",
              "  <tbody>\n",
              "    <tr>\n",
              "      <th>0</th>\n",
              "      <td>0</td>\n",
              "      <td>PUSAN-OUTDOOR &gt; PUSAN-OUTDOOR</td>\n",
              "      <td>7368301</td>\n",
              "      <td>2478767</td>\n",
              "    </tr>\n",
              "    <tr>\n",
              "      <th>1</th>\n",
              "      <td>0</td>\n",
              "      <td>Pusan &gt; 1Sabeom (417) &gt; 1SaBeom1F</td>\n",
              "      <td>679681</td>\n",
              "      <td>151104</td>\n",
              "    </tr>\n",
              "    <tr>\n",
              "      <th>2</th>\n",
              "      <td>0</td>\n",
              "      <td>Pusan &gt; 1Sabeom (417) &gt; 1SaBeom3F</td>\n",
              "      <td>231729451</td>\n",
              "      <td>25989107</td>\n",
              "    </tr>\n",
              "    <tr>\n",
              "      <th>3</th>\n",
              "      <td>0</td>\n",
              "      <td>Pusan &gt; 2SaBeom (701) &gt; 2SaBeom1F</td>\n",
              "      <td>92256693</td>\n",
              "      <td>16832942</td>\n",
              "    </tr>\n",
              "    <tr>\n",
              "      <th>4</th>\n",
              "      <td>0</td>\n",
              "      <td>Pusan &gt; 2SaBeom (701) &gt; 2SaBeom2F</td>\n",
              "      <td>0</td>\n",
              "      <td>0</td>\n",
              "    </tr>\n",
              "    <tr>\n",
              "      <th>...</th>\n",
              "      <td>...</td>\n",
              "      <td>...</td>\n",
              "      <td>...</td>\n",
              "      <td>...</td>\n",
              "    </tr>\n",
              "    <tr>\n",
              "      <th>923446</th>\n",
              "      <td>68539</td>\n",
              "      <td>YangSan &gt; Sanhak &gt; 4F</td>\n",
              "      <td>633747812</td>\n",
              "      <td>11268984</td>\n",
              "    </tr>\n",
              "    <tr>\n",
              "      <th>923447</th>\n",
              "      <td>68540</td>\n",
              "      <td>YangSan &gt; Sanhak &gt; 4F</td>\n",
              "      <td>31450938719</td>\n",
              "      <td>2912428717</td>\n",
              "    </tr>\n",
              "    <tr>\n",
              "      <th>923448</th>\n",
              "      <td>68541</td>\n",
              "      <td>YangSan &gt; Sanhak &gt; 4F</td>\n",
              "      <td>27070580553</td>\n",
              "      <td>96205390</td>\n",
              "    </tr>\n",
              "    <tr>\n",
              "      <th>923449</th>\n",
              "      <td>68542</td>\n",
              "      <td>YangSan &gt; Sanhak &gt; 4F</td>\n",
              "      <td>1188915</td>\n",
              "      <td>193671</td>\n",
              "    </tr>\n",
              "    <tr>\n",
              "      <th>923450</th>\n",
              "      <td>68543</td>\n",
              "      <td>YangSan &gt; Sanhak &gt; 4F</td>\n",
              "      <td>7343460</td>\n",
              "      <td>590456</td>\n",
              "    </tr>\n",
              "  </tbody>\n",
              "</table>\n",
              "<p>923451 rows × 4 columns</p>\n",
              "</div>"
            ],
            "text/plain": [
              "        Client.6  ... Utilization.2\n",
              "0              0  ...       2478767\n",
              "1              0  ...        151104\n",
              "2              0  ...      25989107\n",
              "3              0  ...      16832942\n",
              "4              0  ...             0\n",
              "...          ...  ...           ...\n",
              "923446     68539  ...      11268984\n",
              "923447     68540  ...    2912428717\n",
              "923448     68541  ...      96205390\n",
              "923449     68542  ...        193671\n",
              "923450     68543  ...        590456\n",
              "\n",
              "[923451 rows x 4 columns]"
            ]
          },
          "metadata": {
            "tags": []
          },
          "execution_count": 83
        }
      ]
    },
    {
      "cell_type": "code",
      "metadata": {
        "id": "xl3hy4-051LG",
        "colab_type": "code",
        "colab": {}
      },
      "source": [
        "feature = rgrouped[ ['Client.6','Utilization.1','Utilization.2']]\n",
        "model = KMeans(n_clusters=5,algorithm='auto')\n",
        "model.fit(feature)\n",
        "predict = pd.DataFrame(model.predict(feature))\n",
        "predict.columns=['predict']"
      ],
      "execution_count": 88,
      "outputs": []
    },
    {
      "cell_type": "code",
      "metadata": {
        "id": "gOXNFgi42CX1",
        "colab_type": "code",
        "colab": {}
      },
      "source": [
        "r = pd.concat([rgrouped,predict],axis=1)"
      ],
      "execution_count": 89,
      "outputs": []
    },
    {
      "cell_type": "code",
      "metadata": {
        "id": "DBhvccI12EbV",
        "colab_type": "code",
        "colab": {
          "base_uri": "https://localhost:8080/",
          "height": 114
        },
        "outputId": "8b1114ed-6873-480b-a82d-86333b3b6534"
      },
      "source": [
        "figure, (ax1) = plt.subplots(nrows=1, ncols=1)\n",
        "\n",
        "figure.set_size_inches(100,5)\n",
        "\n",
        "sns.regplot(x=r['Client.6'], \n",
        "\n",
        "           y=r['predict'], \n",
        "\n",
        "           fit_reg=False) # no regression line\n"
      ],
      "execution_count": 98,
      "outputs": [
        {
          "output_type": "execute_result",
          "data": {
            "text/plain": [
              "<matplotlib.axes._subplots.AxesSubplot at 0x7f3b1d181e80>"
            ]
          },
          "metadata": {
            "tags": []
          },
          "execution_count": 98
        },
        {
          "output_type": "display_data",
          "data": {
            "image/png": "[encoded data removed]",
            "text/plain": [
              "<Figure size 7200x360 with 1 Axes>"
            ]
          },
          "metadata": {
            "tags": [],
            "needs_background": "light"
          }
        }
      ]
    },
    {
      "cell_type": "markdown",
      "metadata": {
        "id": "nt04RSzgwLpU",
        "colab_type": "text"
      },
      "source": [
        "scale = StandardScaler()\n",
        "scale.fit(grouped)\n",
        "scaled_X = scale.transform(grouped)\n",
        "grouped['scaled_x'] = scaled_X[:,0]\n",
        "grouped['scaled_y'] = scaled_X[:,1]\n",
        "dbscan = DBSCAN(eps = 0.5, min_samples = 3)\n",
        "cluster = dbscan.fit_predict(scaled_X)\n",
        "grouped['cluster'] = cluster\n",
        "\n",
        "plt.scatter(x = grouped.scaled_x, y = grouped.scaled_y, c = grouped.cluster)\n",
        "plt.title('DBSCAN Clustering in TonghabGige')\n",
        "plt.xlabel('scaled_x')\n",
        "plt.ylabel('scaled_y')\n",
        "\n"
      ]
    },
    {
      "cell_type": "code",
      "metadata": {
        "id": "npP2vu13mJy0",
        "colab_type": "code",
        "colab": {}
      },
      "source": [
        "!free"
      ],
      "execution_count": null,
      "outputs": []
    }
  ]
}