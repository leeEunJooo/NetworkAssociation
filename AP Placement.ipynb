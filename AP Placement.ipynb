{
 "cells": [
  {
   "cell_type": "markdown",
   "metadata": {},
   "source": [
    "# 7.22일까지\n",
    "- 건물 선정(오피스, 강의실, 도서관)\n",
    "  - 시간 속성 그래프 그려주기\n",
    "- 건물 도면 구하기\n",
    "- 논문 이해\n",
    "- 강화학습 공부\n",
    "  - multi-armed bandit machine"
   ]
  },
  {
   "cell_type": "markdown",
   "metadata": {},
   "source": [
    "# WLAN Planning\n",
    " - AP Placement\n",
    " - Channel Assignment"
   ]
  },
  {
   "cell_type": "markdown",
   "metadata": {},
   "source": [
    "# WLAN Management\n",
    " - Radio Channel Assignment : 다양한 Dynamic Channel Allocation Scheme들이 존재한다.\n",
    " - Radio Power Control\n",
    " - On-off Control\n",
    " - (Optional) Controling AP Placement & Insert or Remove\n",
    "   - Guarantee Coverage"
   ]
  },
  {
   "cell_type": "markdown",
   "metadata": {},
   "source": [
    "## Problem\n",
    "- 기존의 플래닝 문제는 단순 건물의 구조 및 장애물만을 활용하고 랜덤한 위치에 단말을 분포하며 최적 AP 배치를 구성한다.\n",
    "- 보유한 측정 데이터는 연결 인원 수(The number of Users), 처리율(Throughput)은 주기성을 가지고 있으며, 평일과 주말간 차이가 크다. 또한, 강의 건물, 도서관, 학교내 행정 건물들은 서로 다른 사용량을 나타낸다.\n",
    "- 무선랜 인프라의 관리 측면에서 적절한 온오프 컨트롤과 AP 위치 조정 및 추가 제거를 통해 관리 비용을 절약할 수 있다."
   ]
  },
  {
   "cell_type": "markdown",
   "metadata": {},
   "source": [
    "## Goal\n",
    " - 시간대별 AP들의 연결 인원수, 처리율을 반영한 최적의 커버리지를 제시한다.\n",
    " - (Optional) AP 위치를 조정하거나 추가 또는 제거를 통해 최적의 층, 건물별 최적 위치를 제공한다."
   ]
  },
  {
   "cell_type": "markdown",
   "metadata": {},
   "source": [
    "## Related Work\n",
    "- Throughput\n",
    "  - [Farsi, Abdelhak, Nadjib Achir, and Khaled Boussetta. \"WLAN planning: Separate and joint optimization of both access point placement and channel assignment.\" annals of telecommunications-annales des télécommunications 70.5-6 (2015): 263-274.](https://pusanackr-my.sharepoint.com/:b:/g/personal/ashesmin_pusan_ac_kr/EWqgFtkxw7hKv0KZPhsrbF8BBSGMPVrLmeU5yhQzK8e9ww?e=7dQr0O)\n",
    "  ![alt text](./images/ap_placement.PNG \"Title\")\n",
    "- SNR\n",
    "  - [Farsi, Abdelhak, Nadjib Achir, and Khaled Boussetta. \"Three-phase heuristic algorithm for wireless LAN planning.\" 2012 IEEE Wireless Communications and Networking Conference (WCNC). IEEE, 2012.](https://pusanackr-my.sharepoint.com/:b:/g/personal/ashesmin_pusan_ac_kr/Ea9a3z_-ZJxOn5oFuTqxTNABxF46ckgGxxNhNsqXMSQXUw?e=2Snat5)\n",
    "- RSSI\n",
    "  - [Tang, Shu, Lin Ma, and Yubin Xu. \"A novel AP placement algorithm based on user distribution for indoor WLAN system.\" China Communications 13.10 (2016): 108-118.](https://pusanackr-my.sharepoint.com/:b:/g/personal/ashesmin_pusan_ac_kr/EVtvMGn1wwpCtlDJtqCqqqYBmVUx4qHLQq3Vcxp0U9_oGw?e=rKNwuF)\n",
    "- The number of users (Measurement 활용)\n",
    "  - [Lyu, Feng, et al. \"Large-scale full wifi coverage: Deployment and management strategy based on user spatio-temporal association analytics.\" IEEE Internet of Things Journal 6.6 (2019): 9386-9398.](https://pusanackr-my.sharepoint.com/:b:/g/personal/ashesmin_pusan_ac_kr/EePtB_UrqU5KrM0O9ScLhqsBrmuQA5RBlWF6Fme1i1eCyw?e=wcfnIf)"
   ]
  },
  {
   "cell_type": "markdown",
   "metadata": {},
   "source": [
    "## Method\n",
    " - AP 위치 및 건물 내 벽과 장애물 등을 모사하고, 보유하고 있는 사용 로그를 활용해서 시뮬레이션 환경을 구성한다.\n",
    " - 활용 액션\n",
    "   1. AP On-Off Control\n",
    "   2. AP들의 위치 조정, 추가 및 제거\n",
    " - 강화학습을 활용하여 솔루션을 제시한다. Multi-Objective Reinforcement Learning\n",
    "  - [Liu, Chunming, Xin Xu, and Dewen Hu. \"Multiobjective reinforcement learning: A comprehensive overview.\" IEEE Transactions on Systems, Man, and Cybernetics: Systems 45.3 (2014): 385-398.](https://pusanackr-my.sharepoint.com/:b:/g/personal/ashesmin_pusan_ac_kr/EcWv_sFpNhRErmc2geHi5SIBKkNb7qcYQpveqvLNn_nscw?e=1N87wf)"
   ]
  },
  {
   "cell_type": "markdown",
   "metadata": {},
   "source": [
    "## WLAN planning: Separate and joint optimization of both access point placement and channel assignment"
   ]
  },
  {
   "cell_type": "markdown",
   "metadata": {},
   "source": [
    "### Formulation"
   ]
  },
  {
   "cell_type": "markdown",
   "metadata": {},
   "source": [
    "#### The probability that at least one mobile terminal(MT) transmits the packet in the considered slot time\n",
    "\n",
    "\\begin{equation}\n",
    "P_{tr} = 1 - \\left(1-\\tau \\right)^2\n",
    "\\end{equation}\n",
    "\n",
    "- $\\tau$ is the probability that a mobile terminal's backoff timer decreases to zero\n",
    "- $n$ is the total number of mobile terminals in a cell"
   ]
  },
  {
   "cell_type": "markdown",
   "metadata": {},
   "source": [
    "#### The probability that a transmission seizes the channel successfully\n",
    "\n",
    "\\begin{equation}\n",
    "P_{s} = {n\\tau}\n",
    "\\end{equation}"
   ]
  },
  {
   "cell_type": "markdown",
   "metadata": {},
   "source": [
    "## Three-phase heuristic algorithm for wireless LAN planning"
   ]
  },
  {
   "cell_type": "code",
   "execution_count": null,
   "metadata": {},
   "outputs": [],
   "source": []
  },
  {
   "cell_type": "markdown",
   "metadata": {},
   "source": [
    "## A novel AP placement algorithm based on user distribution for indoor WLAN system."
   ]
  },
  {
   "cell_type": "markdown",
   "metadata": {},
   "source": [
    "### Formulation"
   ]
  },
  {
   "cell_type": "markdown",
   "metadata": {},
   "source": [
    "#### RSSI\n",
    "\n",
    "RSSI received by terminal $j$ from the AP $i$ can be described as Eq.(1).\n",
    "$$RSSI_{i}(j) = P_{t}(i)+G_{t}(i)-46-10nlgd_{ij}+G_{r}(j)-S(0,\\sigma)$$\n",
    "- $P_{t}$ = transmit power of AP $i$\n",
    "- $G_{t}(i), G_{r}(j)$ = the gain of transmitter and receiver respectively\n",
    "- $n$ = the attenuation factor\n",
    "- $S(0,\\sigma)$ = shadow fading of the system and is usually modeled as zero-mean Gaussian random variable\n"
   ]
  },
  {
   "cell_type": "markdown",
   "metadata": {},
   "source": [
    "#### The probability of the terminal accessing to AP $i$ \n",
    "(the parameters of APs are all equal)\n",
    "\n",
    "\\begin{equation}\n",
    "\\begin{split}\n",
    "P_{j}(i) &=P_{j}(i=argmax(RSSI_{k})) \\\\\n",
    "         &=\\prod_{k\\ne i} P_{j}\\left(10nlg\\left({d_{ij} \\over d_{kj}}\\right) < S\\left(0, \\sqrt{\\sigma_{i}^2+ \\sigma_{k}^2}\\right)\\right) \\\\\n",
    "         &=\\prod_{k\\ne i} \\phi \\left[ {10nlg\\left(d_{kj}/d_{ij}\\right) \\over \\sqrt{\\sigma_{i}^2+ \\sigma_{k}^2}} \\right]\n",
    "\\end{split}\n",
    "\\end{equation}\n",
    "\n",
    "- $\\phi(x) = {1 \\over \\sqrt{2\\pi}} \\int_{-\\infty}^{x} e^{-{t^2 \\over 2}}\\, dt$\n"
   ]
  },
  {
   "cell_type": "markdown",
   "metadata": {},
   "source": [
    "#### The average of RSSI the terminal $j$ may receive\n",
    "(the parameters of APs are all equal)\n",
    "\n",
    "\\begin{equation}\n",
    "\\begin{split}\n",
    "RSSI(j) &=\\sum_{i} { \\left(10^{0.1\\times (P(i) + G(i) - 46 - 10nlgd_{ij} + G_r(j) - S(0,\\sigma))} \\times \\prod_{k\\ne i} \\phi \\left( {10nlg\\left(d_{kj}/d_{ij}\\right) \\over \\sqrt{2 }\\sigma} \\right) \\right)}\\\\\n",
    "        &=\\sum_{i} { \\left(10^{0.1\\times (P(i) + G(i) - 46 + G_r(j) - S(0,\\sigma))} \\times d_{ij}^{-n} \\times \\prod_{k\\ne i} \\phi \\left( {10nlg\\left(d_{kj}/d_{ij}\\right) \\over \\sqrt{2 }\\sigma} \\right) \\right)}\n",
    "\\end{split}\n",
    "\\end{equation}\n",
    "\n",
    "- $\\sigma_{i} = \\sigma_{k}=\\sigma$\n",
    "- $G(i) = G_{t}(i) + G_{r}(i)$"
   ]
  },
  {
   "cell_type": "markdown",
   "metadata": {},
   "source": [
    "\n",
    "#### The object of AP placement\n",
    "  - is to maximize the sum of all the terminals' RSSI (There are N terminals and C available APs in the area)\n",
    "\\begin{equation}\n",
    "\\begin{split}\n",
    "RSSI_{\\sum} &=\\sum_{j=1}^{N} \\sum_{i=1}^{C} { \\left(10^{0.1\\times (P(i) + G(i) - 46 + G_r(j) - S(0,\\sigma))} \\times d_{ij}^{-n} \\times \\prod_{k\\ne i} \\phi \\left( {10nlg\\left(d_{kj}/d_{ij}\\right) \\over \\sqrt{2 }\\sigma} \\right) \\right)}\\\\\n",
    "            &= 10^{0.1\\times (P(i) + G(i) - 46 + G_r(j) - S(0,\\sigma))} \\times \\sum_{j=1}^{N} \\sum_{i=1}^{C} { \\left( d_{ij}^{-n} \\times \\prod_{k\\ne i} \\phi \\left( {10nlg\\left(d_{kj}/d_{ij}\\right) \\over \\sqrt{2 }\\sigma} \\right) \\right)}\\\\\n",
    "            &= 10^{0.1\\times (P(i) + G(i) - 46 + G_r(j) - S(0,\\sigma))} \\times F(P, c_{1}, c_{2}, ... , c_{c})\\\\            \n",
    "\\end{split}\n",
    "\\end{equation}\n",
    "\n",
    "  - $P$ is the probability matrix with an element the probability that terminal $j$ acesses to AP $i$\n",
    "  - $(c_{1}, c_{2}, ..., c_{c})$ correspond to the location coordinates of each AP respectively"
   ]
  },
  {
   "cell_type": "markdown",
   "metadata": {},
   "source": [
    "#### The solution for the AP placement taking the position limitations\n",
    "\\begin{equation}\n",
    "J(P, c_{1}, c_{2}, ... , c_{c}) = \\sum_{j=1}^{N} \\sum_{i=i}^{C} p_{ij} \\begin{Vmatrix} s_{j} - c_{i} \\end{Vmatrix}_{2}^{n}\n",
    "\\end{equation}\n",
    "\n",
    "\\begin{equation}\n",
    "s.t. \\sum_{i=1}^{C} P_{ij} = 1, \\forall j = 1 , ... , N , and c_{i} \\in C_L\n",
    "\\end{equation}\n",
    "\n",
    "- $s_j$ is the $j$-th user's location coordinate\n",
    "- $c_i$ is the $i$-th center's location coordinate\n",
    "- $C_L$ is the set of the available position of the APs"
   ]
  },
  {
   "cell_type": "markdown",
   "metadata": {
    "ExecuteTime": {
     "end_time": "2020-07-13T15:55:19.770583Z",
     "start_time": "2020-07-13T15:55:19.766346Z"
    }
   },
   "source": [
    "### 참조한 식의 문제점\n",
    "- 수신 단말의 RSSI만을 최대로 하는 AP 배치를 고려한다\n",
    "  - 배치된 AP의 커버리지 / 해당 층의 넓이 를 고려하지 않았다.\n",
    "  - AP의 로드 밸런싱(Load Balancing)을 고려하지 않았다."
   ]
  },
  {
   "cell_type": "markdown",
   "metadata": {},
   "source": [
    "## Large-scale full wifi coverage: Deployment and management strategy based on user spatio-temporal association analytics"
   ]
  },
  {
   "cell_type": "markdown",
   "metadata": {},
   "source": [
    "### time-averaged power saving ratio \n",
    "\n",
    "$$P(D) = {1 \\over D\\times T \\times N} \\sum_{d=1}^{D} \\sum_{t=1}^{T} \\sum_{i=1}^{N} a_{i}^{dt}$$\n",
    "\n",
    "- The system operating on $d$th ($\\forall d \\in D$) day and at $t$th ($\\forall \\in T$) time slot\n",
    "- Let $A={A_1, A_2, A_3, ... , A_N}$ be the AP set in the system with the total number of $N$\n",
    "- The binary variable $a_{i}^{dt} \\in \\{0,1\\} (\\forall A_i \\in A, \\forall d \\in D, \\forall t \\in T)$ to indicate that the AP of $A_i$ is switched off on the $d$th day and $t$th time slot with $a_{i}^{dt} = 1$, otherwise $a_{i}^{dt} =0$"
   ]
  },
  {
   "cell_type": "markdown",
   "metadata": {},
   "source": [
    "### time-averaged WiFi coverage ratio\n",
    "\n",
    "$$\n",
    "C(D) = {1 \\over D} \\sum_{d=1}^{D} {\\sum_{t=1}^{T} \\sum_{i=1}^{N} b_{i}^{dt} - \\sum_{t=1}^{T} \\sum_{i=1}^{N} a_{i}^{dt}b_{i}^{dt} \\over \\sum_{t=1}^{T} \\sum_{i=1}^{N} b_{i}^{dt}}\n",
    "$$\n",
    "\n",
    "- $b_{i}^{dt}$ is the number of users associated to the AP of $A_i$ on the $d$th day and $t$th time slot\n",
    "- $a_{i}^{dt}b_{i}^{dt}$ is the number of dropped clients caused by switching off the AP of $A_i$"
   ]
  },
  {
   "cell_type": "markdown",
   "metadata": {},
   "source": [
    "### objective function\n",
    "\n",
    "$$ \\max_{\\{a_{i}^{dt}\\}} \\left( P(D) + \\alpha C(D) \\right)/2$$\n",
    "\n",
    "- $\\alpha (\\alpha > 0)$ is a weight constant"
   ]
  }
 ],
 "metadata": {
  "hide_input": false,
  "kernelspec": {
   "display_name": "Python 3",
   "language": "python",
   "name": "python3"
  },
  "language_info": {
   "codemirror_mode": {
    "name": "ipython",
    "version": 3
   },
   "file_extension": ".py",
   "mimetype": "text/x-python",
   "name": "python",
   "nbconvert_exporter": "python",
   "pygments_lexer": "ipython3",
   "version": "3.7.5"
  },
  "toc": {
   "base_numbering": 1,
   "nav_menu": {},
   "number_sections": true,
   "sideBar": true,
   "skip_h1_title": false,
   "title_cell": "Table of Contents",
   "title_sidebar": "Contents",
   "toc_cell": false,
   "toc_position": {},
   "toc_section_display": true,
   "toc_window_display": false
  },
  "varInspector": {
   "cols": {
    "lenName": 16,
    "lenType": 16,
    "lenVar": 40
   },
   "kernels_config": {
    "python": {
     "delete_cmd_postfix": "",
     "delete_cmd_prefix": "del ",
     "library": "var_list.py",
     "varRefreshCmd": "print(var_dic_list())"
    },
    "r": {
     "delete_cmd_postfix": ") ",
     "delete_cmd_prefix": "rm(",
     "library": "var_list.r",
     "varRefreshCmd": "cat(var_dic_list()) "
    }
   },
   "types_to_exclude": [
    "module",
    "function",
    "builtin_function_or_method",
    "instance",
    "_Feature"
   ],
   "window_display": false
  }
 },
 "nbformat": 4,
 "nbformat_minor": 4
}
